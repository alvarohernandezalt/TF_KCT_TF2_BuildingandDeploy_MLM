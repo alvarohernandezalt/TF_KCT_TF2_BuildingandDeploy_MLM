{
 "cells": [
  {
   "cell_type": "markdown",
   "id": "454bac8d-c56d-4a73-aa09-989bf0607187",
   "metadata": {},
   "source": [
    "### Creating a File Pattern Object Using tf.io\n",
    "\n",
    "tf.io API is used for referencing a distributed dataset that contains files with a common naming pattern.<br>\n",
    "A list of files paths and names for all the dataset files you want to read"
   ]
  },
  {
   "cell_type": "code",
   "execution_count": 1,
   "id": "7c77f447-1750-4225-bbdf-c396e4e11d6e",
   "metadata": {},
   "outputs": [],
   "source": [
    "import tensorflow as tf"
   ]
  },
  {
   "cell_type": "code",
   "execution_count": 2,
   "id": "bc5300d4-e072-493b-b28a-ea90a57069f1",
   "metadata": {},
   "outputs": [],
   "source": [
    "base_pattern = 'dataset'\n",
    "file_pattern = 'owid-covid-data-part*'"
   ]
  },
  {
   "cell_type": "code",
   "execution_count": 3,
   "id": "aaa72944-cf42-4159-8ff7-41e2016757f4",
   "metadata": {},
   "outputs": [],
   "source": [
    "files = tf.io.gfile.glob(base_pattern + '/' + file_pattern)"
   ]
  },
  {
   "cell_type": "code",
   "execution_count": 4,
   "id": "a2114a97-f48f-4bee-8294-b0e247780498",
   "metadata": {},
   "outputs": [
    {
     "data": {
      "text/plain": [
       "['dataset\\\\owid-covid-data-part001.csv',\n",
       " 'dataset\\\\owid-covid-data-part0010.csv',\n",
       " 'dataset\\\\owid-covid-data-part00100.csv',\n",
       " 'dataset\\\\owid-covid-data-part0011.csv',\n",
       " 'dataset\\\\owid-covid-data-part0012.csv',\n",
       " 'dataset\\\\owid-covid-data-part0013.csv',\n",
       " 'dataset\\\\owid-covid-data-part0014.csv',\n",
       " 'dataset\\\\owid-covid-data-part0015.csv',\n",
       " 'dataset\\\\owid-covid-data-part0016.csv',\n",
       " 'dataset\\\\owid-covid-data-part0017.csv',\n",
       " 'dataset\\\\owid-covid-data-part0018.csv',\n",
       " 'dataset\\\\owid-covid-data-part0019.csv',\n",
       " 'dataset\\\\owid-covid-data-part002.csv',\n",
       " 'dataset\\\\owid-covid-data-part0020.csv',\n",
       " 'dataset\\\\owid-covid-data-part0021.csv',\n",
       " 'dataset\\\\owid-covid-data-part0022.csv',\n",
       " 'dataset\\\\owid-covid-data-part0023.csv',\n",
       " 'dataset\\\\owid-covid-data-part0024.csv',\n",
       " 'dataset\\\\owid-covid-data-part0025.csv',\n",
       " 'dataset\\\\owid-covid-data-part0026.csv',\n",
       " 'dataset\\\\owid-covid-data-part0027.csv',\n",
       " 'dataset\\\\owid-covid-data-part0028.csv',\n",
       " 'dataset\\\\owid-covid-data-part0029.csv',\n",
       " 'dataset\\\\owid-covid-data-part003.csv',\n",
       " 'dataset\\\\owid-covid-data-part0030.csv',\n",
       " 'dataset\\\\owid-covid-data-part0031.csv',\n",
       " 'dataset\\\\owid-covid-data-part0032.csv',\n",
       " 'dataset\\\\owid-covid-data-part0033.csv',\n",
       " 'dataset\\\\owid-covid-data-part0034.csv',\n",
       " 'dataset\\\\owid-covid-data-part0035.csv',\n",
       " 'dataset\\\\owid-covid-data-part0036.csv',\n",
       " 'dataset\\\\owid-covid-data-part0037.csv',\n",
       " 'dataset\\\\owid-covid-data-part0038.csv',\n",
       " 'dataset\\\\owid-covid-data-part0039.csv',\n",
       " 'dataset\\\\owid-covid-data-part004.csv',\n",
       " 'dataset\\\\owid-covid-data-part0040.csv',\n",
       " 'dataset\\\\owid-covid-data-part0041.csv',\n",
       " 'dataset\\\\owid-covid-data-part0042.csv',\n",
       " 'dataset\\\\owid-covid-data-part0043.csv',\n",
       " 'dataset\\\\owid-covid-data-part0044.csv',\n",
       " 'dataset\\\\owid-covid-data-part0045.csv',\n",
       " 'dataset\\\\owid-covid-data-part0046.csv',\n",
       " 'dataset\\\\owid-covid-data-part0047.csv',\n",
       " 'dataset\\\\owid-covid-data-part0048.csv',\n",
       " 'dataset\\\\owid-covid-data-part0049.csv',\n",
       " 'dataset\\\\owid-covid-data-part005.csv',\n",
       " 'dataset\\\\owid-covid-data-part0050.csv',\n",
       " 'dataset\\\\owid-covid-data-part0051.csv',\n",
       " 'dataset\\\\owid-covid-data-part0052.csv',\n",
       " 'dataset\\\\owid-covid-data-part0053.csv',\n",
       " 'dataset\\\\owid-covid-data-part0054.csv',\n",
       " 'dataset\\\\owid-covid-data-part0055.csv',\n",
       " 'dataset\\\\owid-covid-data-part0056.csv',\n",
       " 'dataset\\\\owid-covid-data-part0057.csv',\n",
       " 'dataset\\\\owid-covid-data-part0058.csv',\n",
       " 'dataset\\\\owid-covid-data-part0059.csv',\n",
       " 'dataset\\\\owid-covid-data-part006.csv',\n",
       " 'dataset\\\\owid-covid-data-part0060.csv',\n",
       " 'dataset\\\\owid-covid-data-part0061.csv',\n",
       " 'dataset\\\\owid-covid-data-part0062.csv',\n",
       " 'dataset\\\\owid-covid-data-part0063.csv',\n",
       " 'dataset\\\\owid-covid-data-part0064.csv',\n",
       " 'dataset\\\\owid-covid-data-part0065.csv',\n",
       " 'dataset\\\\owid-covid-data-part0066.csv',\n",
       " 'dataset\\\\owid-covid-data-part0067.csv',\n",
       " 'dataset\\\\owid-covid-data-part0068.csv',\n",
       " 'dataset\\\\owid-covid-data-part0069.csv',\n",
       " 'dataset\\\\owid-covid-data-part007.csv',\n",
       " 'dataset\\\\owid-covid-data-part0070.csv',\n",
       " 'dataset\\\\owid-covid-data-part0071.csv',\n",
       " 'dataset\\\\owid-covid-data-part0072.csv',\n",
       " 'dataset\\\\owid-covid-data-part0073.csv',\n",
       " 'dataset\\\\owid-covid-data-part0074.csv',\n",
       " 'dataset\\\\owid-covid-data-part0075.csv',\n",
       " 'dataset\\\\owid-covid-data-part0076.csv',\n",
       " 'dataset\\\\owid-covid-data-part0077.csv',\n",
       " 'dataset\\\\owid-covid-data-part0078.csv',\n",
       " 'dataset\\\\owid-covid-data-part0079.csv',\n",
       " 'dataset\\\\owid-covid-data-part008.csv',\n",
       " 'dataset\\\\owid-covid-data-part0080.csv',\n",
       " 'dataset\\\\owid-covid-data-part0081.csv',\n",
       " 'dataset\\\\owid-covid-data-part0082.csv',\n",
       " 'dataset\\\\owid-covid-data-part0083.csv',\n",
       " 'dataset\\\\owid-covid-data-part0084.csv',\n",
       " 'dataset\\\\owid-covid-data-part0085.csv',\n",
       " 'dataset\\\\owid-covid-data-part0086.csv',\n",
       " 'dataset\\\\owid-covid-data-part0087.csv',\n",
       " 'dataset\\\\owid-covid-data-part0088.csv',\n",
       " 'dataset\\\\owid-covid-data-part0089.csv',\n",
       " 'dataset\\\\owid-covid-data-part009.csv',\n",
       " 'dataset\\\\owid-covid-data-part0090.csv',\n",
       " 'dataset\\\\owid-covid-data-part0091.csv',\n",
       " 'dataset\\\\owid-covid-data-part0092.csv',\n",
       " 'dataset\\\\owid-covid-data-part0093.csv',\n",
       " 'dataset\\\\owid-covid-data-part0094.csv',\n",
       " 'dataset\\\\owid-covid-data-part0095.csv',\n",
       " 'dataset\\\\owid-covid-data-part0096.csv',\n",
       " 'dataset\\\\owid-covid-data-part0097.csv',\n",
       " 'dataset\\\\owid-covid-data-part0098.csv',\n",
       " 'dataset\\\\owid-covid-data-part0099.csv']"
      ]
     },
     "execution_count": 4,
     "metadata": {},
     "output_type": "execute_result"
    }
   ],
   "source": [
    "files"
   ]
  },
  {
   "cell_type": "markdown",
   "id": "2637f911-f909-442a-a3ed-162d2c503d1a",
   "metadata": {},
   "source": [
    "This list is going to be the input for the next step. <br>\n",
    "**Create a streaming dataset object based on Python generators**"
   ]
  },
  {
   "cell_type": "code",
   "execution_count": 7,
   "id": "d8c1f8af-f488-4747-a6bc-5ad4af6fd8cf",
   "metadata": {},
   "outputs": [],
   "source": [
    "# Convert a list of CSV files into a TensorFlow dataset object\n",
    "csv_dataset = tf.data.experimental.make_csv_dataset(files,\n",
    "                                                    header = True,\n",
    "                                                    batch_size = 5,\n",
    "                                                    label_name = 'new_deaths',\n",
    "                                                    num_epochs = 1)\n",
    "                                                    #ignore_errors = True)\n",
    "# csv_dataset = tf.data.Dataset.ignore_errors\n",
    "# This is only a test. We did not clean and prepare data for use it in a Model"
   ]
  },
  {
   "cell_type": "code",
   "execution_count": 10,
   "id": "2763c0e2-ca5e-4436-af99-efb823bc31e9",
   "metadata": {},
   "outputs": [
    {
     "name": "stdout",
     "output_type": "stream",
     "text": [
      "'Target': [    0. 10512.    71.    15.     0.]\n",
      "'Features:'\n",
      "  'iso_code'          : [b'ISL' b'OWID_WRL' b'IDN' b'ARM' b'HUN']\n",
      "  'continent'         : [b'Europe' b'' b'Asia' b'Asia' b'Europe']\n",
      "  'location'          : [b'Iceland' b'World' b'Indonesia' b'Armenia' b'Hungary']\n",
      "  'date'              : [b'2020-06-15' b'2020-04-16' b'2020-07-13' b'2020-07-17' b'2020-07-21']\n",
      "  'total_cases'       : [1.810000e+03 2.042827e+06 7.569900e+04 3.355900e+04 4.347000e+03]\n",
      "  'new_cases'         : [0.0000e+00 7.8896e+04 1.6810e+03 5.5400e+02 1.4000e+01]\n",
      "  'total_deaths'      : [1.00000e+01 1.39682e+05 3.60600e+03 6.07000e+02 5.96000e+02]\n",
      "  'total_cases_per_million': [ 5304.029   262.076   276.755 11325.127   449.984]\n",
      "  'new_cases_per_million': [  0.     10.122   6.146 186.958   1.449]\n",
      "  'total_deaths_per_million': [ 29.304  17.92   13.184 204.844  61.695]\n",
      "  'new_deaths_per_million': [0.    1.349 0.26  5.062 0.   ]\n",
      "  'new_tests'         : [b'27.0' b'' b'9062.0' b'' b'760.0']\n",
      "  'total_tests'       : [b'63184.0' b'' b'630149.0' b'' b'310830.0']\n",
      "  'total_tests_per_thousand': [b'185.155' b'' b'2.304' b'' b'32.176']\n",
      "  'new_tests_per_thousand': [b'0.079' b'' b'0.033' b'' b'0.079']\n",
      "  'new_tests_smoothed': [b'51.0' b'' b'11152.0' b'' b'2067.0']\n",
      "  'new_tests_smoothed_per_thousand': [b'0.149' b'' b'0.041' b'' b'0.214']\n",
      "  'tests_units'       : [b'tests performed' b'' b'people tested' b'' b'tests performed']\n",
      "  'stringency_index'  : [33.33  0.   54.17  0.   52.78]\n",
      "  'population'        : [3.4125000e+05 7.7947986e+09 2.7352362e+08 2.9632340e+06 9.6603500e+06]\n",
      "  'population_density': [  3.404  58.045 145.725 102.931 108.043]\n",
      "  'median_age'        : [37.3 30.9 29.3 35.7 43.4]\n",
      "  'aged_65_older'     : [14.431  8.696  5.319 11.232 18.577]\n",
      "  'aged_70_older'     : [ 9.207  5.355  3.053  7.571 11.976]\n",
      "  'gdp_per_capita'    : [46482.957 15469.207 11188.744  8787.58  26777.56 ]\n",
      "  'extreme_poverty'   : [b'0.2' b'10.0' b'5.7' b'1.8' b'0.5']\n",
      "  'cardiovasc_death_rate': [117.992 233.07  342.864 341.01  278.296]\n",
      "  'diabetes_prevalence': [5.31 8.51 6.32 7.11 7.55]\n",
      "  'female_smokers'    : [b'14.3' b'6.434' b'2.8' b'1.5' b'26.8']\n",
      "  'male_smokers'      : [b'15.2' b'34.635' b'76.1' b'52.1' b'34.8']\n",
      "  'handwashing_facilities': [ 0.    60.13  64.204 94.043  0.   ]\n",
      "  'hospital_beds_per_thousand': [2.91  2.705 1.04  4.2   7.02 ]\n",
      "  'life_expectancy'   : [82.99 72.58 71.72 75.09 76.88]\n"
     ]
    }
   ],
   "source": [
    "for features, target in csv_dataset.take(1):\n",
    "    print(\"'Target': {}\".format(target))\n",
    "    print(\"'Features:'\")\n",
    "    for k, v in features.items():\n",
    "        print(\"  {!r:20s}: {}\".format(k, v))"
   ]
  },
  {
   "cell_type": "code",
   "execution_count": 11,
   "id": "5c4e7aa8-c993-4285-8851-873a1cb5dd65",
   "metadata": {},
   "outputs": [],
   "source": [
    "features, label = next(iter(csv_dataset))"
   ]
  },
  {
   "cell_type": "code",
   "execution_count": 12,
   "id": "db9e085d-e701-46e9-a00c-f2fa488950cf",
   "metadata": {},
   "outputs": [
    {
     "data": {
      "text/plain": [
       "<tf.Tensor: shape=(5,), dtype=float32, numpy=array([ 0.,  5., 21., 32.,  0.], dtype=float32)>"
      ]
     },
     "execution_count": 12,
     "metadata": {},
     "output_type": "execute_result"
    }
   ],
   "source": [
    "label\n"
   ]
  },
  {
   "cell_type": "code",
   "execution_count": 13,
   "id": "df76f53d-dbf0-4a8d-9998-3a742903b1ab",
   "metadata": {},
   "outputs": [
    {
     "data": {
      "text/plain": [
       "OrderedDict([('iso_code',\n",
       "              <tf.Tensor: shape=(5,), dtype=string, numpy=array([b'GUY', b'KWT', b'PHL', b'IDN', b'NIC'], dtype=object)>),\n",
       "             ('continent',\n",
       "              <tf.Tensor: shape=(5,), dtype=string, numpy=\n",
       "              array([b'South America', b'Asia', b'Asia', b'Asia', b'North America'],\n",
       "                    dtype=object)>),\n",
       "             ('location',\n",
       "              <tf.Tensor: shape=(5,), dtype=string, numpy=\n",
       "              array([b'Guyana', b'Kuwait', b'Philippines', b'Indonesia', b'Nicaragua'],\n",
       "                    dtype=object)>),\n",
       "             ('date',\n",
       "              <tf.Tensor: shape=(5,), dtype=string, numpy=\n",
       "              array([b'2020-05-17', b'2020-07-07', b'2020-04-10', b'2020-06-09',\n",
       "                     b'2020-06-08'], dtype=object)>),\n",
       "             ('total_cases',\n",
       "              <tf.Tensor: shape=(5,), dtype=float32, numpy=array([  117., 50644.,  4076., 32033.,  1309.], dtype=float32)>),\n",
       "             ('new_cases',\n",
       "              <tf.Tensor: shape=(5,), dtype=float32, numpy=array([  1., 703., 206., 847.,   0.], dtype=float32)>),\n",
       "             ('total_deaths',\n",
       "              <tf.Tensor: shape=(5,), dtype=float32, numpy=array([  10.,  373.,  203., 1883.,   46.], dtype=float32)>),\n",
       "             ('total_cases_per_million',\n",
       "              <tf.Tensor: shape=(5,), dtype=float32, numpy=\n",
       "              array([  148.749, 11858.858,    37.196,   117.112,   197.598],\n",
       "                    dtype=float32)>),\n",
       "             ('new_cases_per_million',\n",
       "              <tf.Tensor: shape=(5,), dtype=float32, numpy=array([  1.271, 164.615,   1.88 ,   3.097,   0.   ], dtype=float32)>),\n",
       "             ('total_deaths_per_million',\n",
       "              <tf.Tensor: shape=(5,), dtype=float32, numpy=array([12.714, 87.342,  1.853,  6.884,  6.944], dtype=float32)>),\n",
       "             ('new_deaths_per_million',\n",
       "              <tf.Tensor: shape=(5,), dtype=float32, numpy=array([0.   , 1.171, 0.192, 0.117, 0.   ], dtype=float32)>),\n",
       "             ('new_tests',\n",
       "              <tf.Tensor: shape=(5,), dtype=string, numpy=array([b'', b'4195.0', b'1244.0', b'7223.0', b''], dtype=object)>),\n",
       "             ('total_tests',\n",
       "              <tf.Tensor: shape=(5,), dtype=string, numpy=array([b'', b'413530.0', b'32770.0', b'281653.0', b''], dtype=object)>),\n",
       "             ('total_tests_per_thousand',\n",
       "              <tf.Tensor: shape=(5,), dtype=string, numpy=array([b'', b'96.833', b'0.299', b'1.03', b''], dtype=object)>),\n",
       "             ('new_tests_per_thousand',\n",
       "              <tf.Tensor: shape=(5,), dtype=string, numpy=array([b'', b'0.982', b'0.011', b'0.026', b''], dtype=object)>),\n",
       "             ('new_tests_smoothed',\n",
       "              <tf.Tensor: shape=(5,), dtype=string, numpy=array([b'', b'3806.0', b'1785.0', b'6244.0', b''], dtype=object)>),\n",
       "             ('new_tests_smoothed_per_thousand',\n",
       "              <tf.Tensor: shape=(5,), dtype=string, numpy=array([b'', b'0.891', b'0.016', b'0.023', b''], dtype=object)>),\n",
       "             ('tests_units',\n",
       "              <tf.Tensor: shape=(5,), dtype=string, numpy=\n",
       "              array([b'', b'tests performed', b'people tested', b'people tested', b''],\n",
       "                    dtype=object)>),\n",
       "             ('stringency_index',\n",
       "              <tf.Tensor: shape=(5,), dtype=float32, numpy=array([ 87.04,  83.33, 100.  ,  68.06,  11.11], dtype=float32)>),\n",
       "             ('population',\n",
       "              <tf.Tensor: shape=(5,), dtype=float32, numpy=\n",
       "              array([7.8655900e+05, 4.2705630e+06, 1.0958109e+08, 2.7352362e+08,\n",
       "                     6.6245540e+06], dtype=float32)>),\n",
       "             ('population_density',\n",
       "              <tf.Tensor: shape=(5,), dtype=float32, numpy=array([  3.952, 232.128, 351.873, 145.725,  51.667], dtype=float32)>),\n",
       "             ('median_age',\n",
       "              <tf.Tensor: shape=(5,), dtype=float32, numpy=array([26.3, 33.7, 25.2, 29.3, 27.3], dtype=float32)>),\n",
       "             ('aged_65_older',\n",
       "              <tf.Tensor: shape=(5,), dtype=float32, numpy=array([5.305, 2.345, 4.803, 5.319, 5.445], dtype=float32)>),\n",
       "             ('aged_70_older',\n",
       "              <tf.Tensor: shape=(5,), dtype=float32, numpy=array([2.837, 1.114, 2.661, 3.053, 3.519], dtype=float32)>),\n",
       "             ('gdp_per_capita',\n",
       "              <tf.Tensor: shape=(5,), dtype=float32, numpy=\n",
       "              array([ 7435.047, 65530.535,  7599.188, 11188.744,  5321.444],\n",
       "                    dtype=float32)>),\n",
       "             ('extreme_poverty',\n",
       "              <tf.Tensor: shape=(5,), dtype=string, numpy=array([b'', b'', b'', b'5.7', b'3.2'], dtype=object)>),\n",
       "             ('cardiovasc_death_rate',\n",
       "              <tf.Tensor: shape=(5,), dtype=float32, numpy=array([373.159, 132.235, 370.437, 342.864, 137.016], dtype=float32)>),\n",
       "             ('diabetes_prevalence',\n",
       "              <tf.Tensor: shape=(5,), dtype=float32, numpy=array([11.62, 15.84,  7.07,  6.32, 11.47], dtype=float32)>),\n",
       "             ('female_smokers',\n",
       "              <tf.Tensor: shape=(5,), dtype=string, numpy=array([b'', b'2.7', b'7.8', b'2.8', b''], dtype=object)>),\n",
       "             ('male_smokers',\n",
       "              <tf.Tensor: shape=(5,), dtype=string, numpy=array([b'', b'37.0', b'40.8', b'76.1', b''], dtype=object)>),\n",
       "             ('handwashing_facilities',\n",
       "              <tf.Tensor: shape=(5,), dtype=float32, numpy=array([77.159,  0.   , 78.463, 64.204,  0.   ], dtype=float32)>),\n",
       "             ('hospital_beds_per_thousand',\n",
       "              <tf.Tensor: shape=(5,), dtype=float32, numpy=array([1.6 , 2.  , 1.  , 1.04, 0.9 ], dtype=float32)>),\n",
       "             ('life_expectancy',\n",
       "              <tf.Tensor: shape=(5,), dtype=float32, numpy=array([69.91, 75.49, 71.23, 71.72, 74.48], dtype=float32)>)])"
      ]
     },
     "execution_count": 13,
     "metadata": {},
     "output_type": "execute_result"
    }
   ],
   "source": [
    "features"
   ]
  },
  {
   "cell_type": "code",
   "execution_count": 14,
   "id": "2d635918-f8a8-4104-8a3b-fd169d940bd5",
   "metadata": {},
   "outputs": [],
   "source": [
    "features, label = next(iter(csv_dataset))"
   ]
  },
  {
   "cell_type": "code",
   "execution_count": 15,
   "id": "6550db4b-edec-48a2-b5cd-0e6b96828c0c",
   "metadata": {},
   "outputs": [
    {
     "data": {
      "text/plain": [
       "<tf.Tensor: shape=(5,), dtype=float32, numpy=array([106.,   7.,  47.,   0.,   0.], dtype=float32)>"
      ]
     },
     "execution_count": 15,
     "metadata": {},
     "output_type": "execute_result"
    }
   ],
   "source": [
    "label"
   ]
  },
  {
   "cell_type": "code",
   "execution_count": 16,
   "id": "ceab70fa-1621-4845-82d6-0d2ccd2be13d",
   "metadata": {},
   "outputs": [
    {
     "data": {
      "text/plain": [
       "tensorflow.python.data.ops.prefetch_op._PrefetchDataset"
      ]
     },
     "execution_count": 16,
     "metadata": {},
     "output_type": "execute_result"
    }
   ],
   "source": [
    "type(csv_dataset)"
   ]
  },
  {
   "cell_type": "code",
   "execution_count": null,
   "id": "0ef1082f-d8d1-4895-b1a2-2ec2f41ab47f",
   "metadata": {},
   "outputs": [],
   "source": []
  }
 ],
 "metadata": {
  "kernelspec": {
   "display_name": "Python 3 (ipykernel)",
   "language": "python",
   "name": "python3"
  },
  "language_info": {
   "codemirror_mode": {
    "name": "ipython",
    "version": 3
   },
   "file_extension": ".py",
   "mimetype": "text/x-python",
   "name": "python",
   "nbconvert_exporter": "python",
   "pygments_lexer": "ipython3",
   "version": "3.10.10"
  }
 },
 "nbformat": 4,
 "nbformat_minor": 5
}
