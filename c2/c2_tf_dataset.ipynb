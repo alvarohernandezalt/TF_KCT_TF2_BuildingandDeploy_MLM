{
 "cells": [
  {
   "cell_type": "markdown",
   "id": "454bac8d-c56d-4a73-aa09-989bf0607187",
   "metadata": {},
   "source": [
    "### Creating a File Pattern Object Using tf.io\n",
    "\n",
    "tf.io API is used for referencing a distributed dataset that contains files with a common naming pattern.<br>\n",
    "A list of files paths and names for all the dataset files you want to read"
   ]
  },
  {
   "cell_type": "code",
   "execution_count": null,
   "id": "7c77f447-1750-4225-bbdf-c396e4e11d6e",
   "metadata": {},
   "outputs": [],
   "source": [
    "import tensorflow as tf"
   ]
  },
  {
   "cell_type": "code",
   "execution_count": 2,
   "id": "bc5300d4-e072-493b-b28a-ea90a57069f1",
   "metadata": {},
   "outputs": [],
   "source": [
    "base_pattern = 'dataset'\n",
    "file_pattern = 'owid-covid-data-part*'"
   ]
  },
  {
   "cell_type": "code",
   "execution_count": 4,
   "id": "aaa72944-cf42-4159-8ff7-41e2016757f4",
   "metadata": {},
   "outputs": [],
   "source": [
    "files = tf.io.gfile.glob(base_pattern + '/' + file_pattern)"
   ]
  },
  {
   "cell_type": "code",
   "execution_count": 5,
   "id": "a2114a97-f48f-4bee-8294-b0e247780498",
   "metadata": {
    "collapsed": true,
    "jupyter": {
     "outputs_hidden": true
    }
   },
   "outputs": [
    {
     "data": {
      "text/plain": [
       "['dataset\\\\owid-covid-data-part001.csv',\n",
       " 'dataset\\\\owid-covid-data-part0010.csv',\n",
       " 'dataset\\\\owid-covid-data-part00100.csv',\n",
       " 'dataset\\\\owid-covid-data-part0011.csv',\n",
       " 'dataset\\\\owid-covid-data-part0012.csv',\n",
       " 'dataset\\\\owid-covid-data-part0013.csv',\n",
       " 'dataset\\\\owid-covid-data-part0014.csv',\n",
       " 'dataset\\\\owid-covid-data-part0015.csv',\n",
       " 'dataset\\\\owid-covid-data-part0016.csv',\n",
       " 'dataset\\\\owid-covid-data-part0017.csv',\n",
       " 'dataset\\\\owid-covid-data-part0018.csv',\n",
       " 'dataset\\\\owid-covid-data-part0019.csv',\n",
       " 'dataset\\\\owid-covid-data-part002.csv',\n",
       " 'dataset\\\\owid-covid-data-part0020.csv',\n",
       " 'dataset\\\\owid-covid-data-part0021.csv',\n",
       " 'dataset\\\\owid-covid-data-part0022.csv',\n",
       " 'dataset\\\\owid-covid-data-part0023.csv',\n",
       " 'dataset\\\\owid-covid-data-part0024.csv',\n",
       " 'dataset\\\\owid-covid-data-part0025.csv',\n",
       " 'dataset\\\\owid-covid-data-part0026.csv',\n",
       " 'dataset\\\\owid-covid-data-part0027.csv',\n",
       " 'dataset\\\\owid-covid-data-part0028.csv',\n",
       " 'dataset\\\\owid-covid-data-part0029.csv',\n",
       " 'dataset\\\\owid-covid-data-part003.csv',\n",
       " 'dataset\\\\owid-covid-data-part0030.csv',\n",
       " 'dataset\\\\owid-covid-data-part0031.csv',\n",
       " 'dataset\\\\owid-covid-data-part0032.csv',\n",
       " 'dataset\\\\owid-covid-data-part0033.csv',\n",
       " 'dataset\\\\owid-covid-data-part0034.csv',\n",
       " 'dataset\\\\owid-covid-data-part0035.csv',\n",
       " 'dataset\\\\owid-covid-data-part0036.csv',\n",
       " 'dataset\\\\owid-covid-data-part0037.csv',\n",
       " 'dataset\\\\owid-covid-data-part0038.csv',\n",
       " 'dataset\\\\owid-covid-data-part0039.csv',\n",
       " 'dataset\\\\owid-covid-data-part004.csv',\n",
       " 'dataset\\\\owid-covid-data-part0040.csv',\n",
       " 'dataset\\\\owid-covid-data-part0041.csv',\n",
       " 'dataset\\\\owid-covid-data-part0042.csv',\n",
       " 'dataset\\\\owid-covid-data-part0043.csv',\n",
       " 'dataset\\\\owid-covid-data-part0044.csv',\n",
       " 'dataset\\\\owid-covid-data-part0045.csv',\n",
       " 'dataset\\\\owid-covid-data-part0046.csv',\n",
       " 'dataset\\\\owid-covid-data-part0047.csv',\n",
       " 'dataset\\\\owid-covid-data-part0048.csv',\n",
       " 'dataset\\\\owid-covid-data-part0049.csv',\n",
       " 'dataset\\\\owid-covid-data-part005.csv',\n",
       " 'dataset\\\\owid-covid-data-part0050.csv',\n",
       " 'dataset\\\\owid-covid-data-part0051.csv',\n",
       " 'dataset\\\\owid-covid-data-part0052.csv',\n",
       " 'dataset\\\\owid-covid-data-part0053.csv',\n",
       " 'dataset\\\\owid-covid-data-part0054.csv',\n",
       " 'dataset\\\\owid-covid-data-part0055.csv',\n",
       " 'dataset\\\\owid-covid-data-part0056.csv',\n",
       " 'dataset\\\\owid-covid-data-part0057.csv',\n",
       " 'dataset\\\\owid-covid-data-part0058.csv',\n",
       " 'dataset\\\\owid-covid-data-part0059.csv',\n",
       " 'dataset\\\\owid-covid-data-part006.csv',\n",
       " 'dataset\\\\owid-covid-data-part0060.csv',\n",
       " 'dataset\\\\owid-covid-data-part0061.csv',\n",
       " 'dataset\\\\owid-covid-data-part0062.csv',\n",
       " 'dataset\\\\owid-covid-data-part0063.csv',\n",
       " 'dataset\\\\owid-covid-data-part0064.csv',\n",
       " 'dataset\\\\owid-covid-data-part0065.csv',\n",
       " 'dataset\\\\owid-covid-data-part0066.csv',\n",
       " 'dataset\\\\owid-covid-data-part0067.csv',\n",
       " 'dataset\\\\owid-covid-data-part0068.csv',\n",
       " 'dataset\\\\owid-covid-data-part0069.csv',\n",
       " 'dataset\\\\owid-covid-data-part007.csv',\n",
       " 'dataset\\\\owid-covid-data-part0070.csv',\n",
       " 'dataset\\\\owid-covid-data-part0071.csv',\n",
       " 'dataset\\\\owid-covid-data-part0072.csv',\n",
       " 'dataset\\\\owid-covid-data-part0073.csv',\n",
       " 'dataset\\\\owid-covid-data-part0074.csv',\n",
       " 'dataset\\\\owid-covid-data-part0075.csv',\n",
       " 'dataset\\\\owid-covid-data-part0076.csv',\n",
       " 'dataset\\\\owid-covid-data-part0077.csv',\n",
       " 'dataset\\\\owid-covid-data-part0078.csv',\n",
       " 'dataset\\\\owid-covid-data-part0079.csv',\n",
       " 'dataset\\\\owid-covid-data-part008.csv',\n",
       " 'dataset\\\\owid-covid-data-part0080.csv',\n",
       " 'dataset\\\\owid-covid-data-part0081.csv',\n",
       " 'dataset\\\\owid-covid-data-part0082.csv',\n",
       " 'dataset\\\\owid-covid-data-part0083.csv',\n",
       " 'dataset\\\\owid-covid-data-part0084.csv',\n",
       " 'dataset\\\\owid-covid-data-part0085.csv',\n",
       " 'dataset\\\\owid-covid-data-part0086.csv',\n",
       " 'dataset\\\\owid-covid-data-part0087.csv',\n",
       " 'dataset\\\\owid-covid-data-part0088.csv',\n",
       " 'dataset\\\\owid-covid-data-part0089.csv',\n",
       " 'dataset\\\\owid-covid-data-part009.csv',\n",
       " 'dataset\\\\owid-covid-data-part0090.csv',\n",
       " 'dataset\\\\owid-covid-data-part0091.csv',\n",
       " 'dataset\\\\owid-covid-data-part0092.csv',\n",
       " 'dataset\\\\owid-covid-data-part0093.csv',\n",
       " 'dataset\\\\owid-covid-data-part0094.csv',\n",
       " 'dataset\\\\owid-covid-data-part0095.csv',\n",
       " 'dataset\\\\owid-covid-data-part0096.csv',\n",
       " 'dataset\\\\owid-covid-data-part0097.csv',\n",
       " 'dataset\\\\owid-covid-data-part0098.csv',\n",
       " 'dataset\\\\owid-covid-data-part0099.csv']"
      ]
     },
     "execution_count": 5,
     "metadata": {},
     "output_type": "execute_result"
    }
   ],
   "source": [
    "files"
   ]
  },
  {
   "cell_type": "markdown",
   "id": "2637f911-f909-442a-a3ed-162d2c503d1a",
   "metadata": {},
   "source": [
    "This list is going to be the input for the next step. <br>\n",
    "** Cr"
   ]
  },
  {
   "cell_type": "code",
   "execution_count": null,
   "id": "d8c1f8af-f488-4747-a6bc-5ad4af6fd8cf",
   "metadata": {},
   "outputs": [],
   "source": []
  }
 ],
 "metadata": {
  "kernelspec": {
   "display_name": "Python 3 (ipykernel)",
   "language": "python",
   "name": "python3"
  },
  "language_info": {
   "codemirror_mode": {
    "name": "ipython",
    "version": 3
   },
   "file_extension": ".py",
   "mimetype": "text/x-python",
   "name": "python",
   "nbconvert_exporter": "python",
   "pygments_lexer": "ipython3",
   "version": "3.10.10"
  }
 },
 "nbformat": 4,
 "nbformat_minor": 5
}
