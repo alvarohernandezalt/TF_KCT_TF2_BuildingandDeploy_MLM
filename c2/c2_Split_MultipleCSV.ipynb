{
 "cells": [
  {
   "cell_type": "markdown",
   "id": "1525e2d9-c8b0-4939-b031-a2c4385dd4bf",
   "metadata": {},
   "source": [
    "### Split multiple csv for this exercise\n",
    "In linux or macos you can do this through the terminal using the following pipe command:\n",
    "\n",
    "cat owid-covid-data.csv| parallel --header : --pipe -N330 'cat >owid-covid-data-part00(#).csv\n",
    "\n",
    "I am using python to do this operation\n",
    "👁️ **Need to look after doing this in Powershell**"
   ]
  },
  {
   "cell_type": "code",
   "execution_count": 3,
   "id": "845176e6-4290-4346-ade4-01f97e290503",
   "metadata": {},
   "outputs": [],
   "source": [
    "import csv\n",
    "import os"
   ]
  },
  {
   "cell_type": "code",
   "execution_count": 8,
   "id": "589e8c2d-6850-4b53-b0d0-47abd327351f",
   "metadata": {},
   "outputs": [
    {
     "ename": "ValueError",
     "evalue": "I/O operation on closed file.",
     "output_type": "error",
     "traceback": [
      "\u001b[1;31m---------------------------------------------------------------------------\u001b[0m",
      "\u001b[1;31mValueError\u001b[0m                                Traceback (most recent call last)",
      "Cell \u001b[1;32mIn[8], line 23\u001b[0m\n\u001b[0;32m     21\u001b[0m input_file \u001b[38;5;241m=\u001b[39m \u001b[38;5;124m'\u001b[39m\u001b[38;5;124mowid-covid-data.csv\u001b[39m\u001b[38;5;124m'\u001b[39m\n\u001b[0;32m     22\u001b[0m output_dir \u001b[38;5;241m=\u001b[39m \u001b[38;5;124m'\u001b[39m\u001b[38;5;124m99_split_dataset\u001b[39m\u001b[38;5;124m'\u001b[39m\n\u001b[1;32m---> 23\u001b[0m \u001b[43msplit_csv\u001b[49m\u001b[43m(\u001b[49m\u001b[43minput_file\u001b[49m\u001b[43m,\u001b[49m\u001b[43m \u001b[49m\u001b[43moutput_dir\u001b[49m\u001b[43m)\u001b[49m\n",
      "Cell \u001b[1;32mIn[8], line 14\u001b[0m, in \u001b[0;36msplit_csv\u001b[1;34m(input_file, output_dir, chunk_size)\u001b[0m\n\u001b[0;32m     12\u001b[0m   i \u001b[38;5;241m=\u001b[39m \u001b[38;5;241m0\u001b[39m\n\u001b[0;32m     13\u001b[0m   output_file\u001b[38;5;241m.\u001b[39mclose()\n\u001b[1;32m---> 14\u001b[0m \u001b[43mwriter\u001b[49m\u001b[38;5;241;43m.\u001b[39;49m\u001b[43mwriterow\u001b[49m\u001b[43m(\u001b[49m\u001b[43mrow\u001b[49m\u001b[43m)\u001b[49m\n\u001b[0;32m     15\u001b[0m output_file\u001b[38;5;241m.\u001b[39mflush()\n\u001b[0;32m     16\u001b[0m i \u001b[38;5;241m+\u001b[39m\u001b[38;5;241m=\u001b[39m \u001b[38;5;241m1\u001b[39m\n",
      "\u001b[1;31mValueError\u001b[0m: I/O operation on closed file."
     ]
    }
   ],
   "source": [
    "def split_csv(input_file, output_dir, chunk_size=330):\n",
    "  with open(input_file, 'r') as in_file:\n",
    "    reader = csv.reader(in_file, delimiter=',')\n",
    "    i = 0\n",
    "    output_file = None\n",
    "    for row in reader:\n",
    "      if i == 0:\n",
    "        os.makedirs(output_dir, exist_ok=True)\n",
    "        with open(os.path.join(output_dir, f'part_{i:03d}.csv'), 'w', newline='') as output_file:\n",
    "          writer = csv.writer(output_file, delimiter=',')\n",
    "      if i == chunk_size:\n",
    "        i = 0\n",
    "        output_file.close()\n",
    "      writer.writerow(row)\n",
    "      output_file.flush()\n",
    "      i += 1\n",
    "    if output_file:\n",
    "      output_file.close()\n",
    "\n",
    "if __name__ == '__main__':\n",
    "  input_file = 'owid-covid-data.csv'\n",
    "  output_dir = '99_split_dataset'\n",
    "  split_csv(input_file, output_dir)"
   ]
  },
  {
   "cell_type": "code",
   "execution_count": null,
   "id": "c0138add-10d3-4e99-ae8a-bcd7d04c7608",
   "metadata": {},
   "outputs": [],
   "source": []
  }
 ],
 "metadata": {
  "kernelspec": {
   "display_name": "Python 3 (ipykernel)",
   "language": "python",
   "name": "python3"
  },
  "language_info": {
   "codemirror_mode": {
    "name": "ipython",
    "version": 3
   },
   "file_extension": ".py",
   "mimetype": "text/x-python",
   "name": "python",
   "nbconvert_exporter": "python",
   "pygments_lexer": "ipython3",
   "version": "3.10.10"
  }
 },
 "nbformat": 4,
 "nbformat_minor": 5
}
