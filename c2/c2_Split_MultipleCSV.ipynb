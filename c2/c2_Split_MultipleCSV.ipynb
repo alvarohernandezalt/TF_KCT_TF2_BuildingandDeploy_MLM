{
 "cells": [
  {
   "cell_type": "markdown",
   "id": "1525e2d9-c8b0-4939-b031-a2c4385dd4bf",
   "metadata": {},
   "source": [
    "### Split multiple csv for this exercise\n",
    "In linux or macos you can do this through the terminal using the following pipe command:\n",
    "\n",
    "cat owid-covid-data.csv| parallel --header : --pipe -N330 'cat >owid-covid-data-part00(#).csv\n",
    "\n",
    "I am using python to do this operation\n",
    "👁️ **Need to look after "
   ]
  }
 ],
 "metadata": {
  "kernelspec": {
   "display_name": "Python 3 (ipykernel)",
   "language": "python",
   "name": "python3"
  },
  "language_info": {
   "codemirror_mode": {
    "name": "ipython",
    "version": 3
   },
   "file_extension": ".py",
   "mimetype": "text/x-python",
   "name": "python",
   "nbconvert_exporter": "python",
   "pygments_lexer": "ipython3",
   "version": "3.10.10"
  }
 },
 "nbformat": 4,
 "nbformat_minor": 5
}
