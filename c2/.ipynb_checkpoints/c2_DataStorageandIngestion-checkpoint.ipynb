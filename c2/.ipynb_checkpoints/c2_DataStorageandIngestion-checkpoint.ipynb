{
 "cells": [
  {
   "cell_type": "code",
   "execution_count": 1,
   "id": "8fea5b49-910f-473a-8a14-e0cd5c5da49e",
   "metadata": {},
   "outputs": [],
   "source": [
    "import numpy as np"
   ]
  },
  {
   "cell_type": "markdown",
   "id": "6b6df64b-1906-444a-8604-ce5125c2c055",
   "metadata": {},
   "source": [
    "#### Define the function `my_generator`\n",
    "Accepts numPy arrays and iterates two records at a time in the array"
   ]
  },
  {
   "cell_type": "code",
   "execution_count": 2,
   "id": "4c8c4f6d-c29a-41ac-8d9b-62523f8cd4ee",
   "metadata": {},
   "outputs": [],
   "source": [
    "def my_generator(my_array):\n",
    "    i = 0\n",
    "    while True:\n",
    "        # output two elements at a time\n",
    "        yield my_array[i:i+2, :]\n",
    "        i += 1\n",
    "        "
   ]
  },
  {
   "cell_type": "code",
   "execution_count": 3,
   "id": "8c248e99-ad74-4661-ae47-df1f44cdb14b",
   "metadata": {},
   "outputs": [],
   "source": [
    "# Create an array to test the function above\n",
    "test_array = np.array([[10.0, 2.0],\n",
    "                       [15, 6.0],\n",
    "                       [3.2, -1.5],\n",
    "                       [-3, -2]], np.float32)"
   ]
  },
  {
   "cell_type": "code",
   "execution_count": null,
   "id": "693617b1-ba82-43a3-bdbd-95fae68e6c43",
   "metadata": {},
   "outputs": [],
   "source": []
  }
 ],
 "metadata": {
  "kernelspec": {
   "display_name": "Python 3 (ipykernel)",
   "language": "python",
   "name": "python3"
  },
  "language_info": {
   "codemirror_mode": {
    "name": "ipython",
    "version": 3
   },
   "file_extension": ".py",
   "mimetype": "text/x-python",
   "name": "python",
   "nbconvert_exporter": "python",
   "pygments_lexer": "ipython3",
   "version": "3.10.10"
  }
 },
 "nbformat": 4,
 "nbformat_minor": 5
}
