{
 "cells": [
  {
   "cell_type": "code",
   "execution_count": 1,
   "id": "8fea5b49-910f-473a-8a14-e0cd5c5da49e",
   "metadata": {},
   "outputs": [],
   "source": [
    "import numpy as np"
   ]
  },
  {
   "cell_type": "markdown",
   "id": "6b6df64b-1906-444a-8604-ce5125c2c055",
   "metadata": {},
   "source": [
    "#### Define the function `my_generator`\n",
    "Accepts numPy arrays and iterates two records at a time in the array"
   ]
  },
  {
   "cell_type": "code",
   "execution_count": 2,
   "id": "4c8c4f6d-c29a-41ac-8d9b-62523f8cd4ee",
   "metadata": {},
   "outputs": [],
   "source": [
    "def my_generator(my_array):\n",
    "    i = 0\n",
    "    while True:\n",
    "        # output two elements at a time\n",
    "        yield my_array[i:i+2, :]\n",
    "        i += 1\n",
    "        "
   ]
  },
  {
   "cell_type": "code",
   "execution_count": 3,
   "id": "8c248e99-ad74-4661-ae47-df1f44cdb14b",
   "metadata": {},
   "outputs": [],
   "source": [
    "# Create an array to test the function above\n",
    "test_array = np.array([[10.0, 2.0],\n",
    "                       [15, 6.0],\n",
    "                       [3.2, -1.5],\n",
    "                       [-3, -2]], np.float32)"
   ]
  },
  {
   "cell_type": "code",
   "execution_count": 4,
   "id": "693617b1-ba82-43a3-bdbd-95fae68e6c43",
   "metadata": {},
   "outputs": [],
   "source": [
    "output = my_generator(test_array)"
   ]
  },
  {
   "cell_type": "code",
   "execution_count": 5,
   "id": "923c3adf-5f5e-4e53-9110-d03aa98b36fa",
   "metadata": {},
   "outputs": [
    {
     "data": {
      "text/plain": [
       "array([[10.,  2.],\n",
       "       [15.,  6.]], dtype=float32)"
      ]
     },
     "execution_count": 5,
     "metadata": {},
     "output_type": "execute_result"
    }
   ],
   "source": [
    "next(output) #1"
   ]
  },
  {
   "cell_type": "code",
   "execution_count": 6,
   "id": "0b398b2a-6433-4ed2-960d-523cc2a8b3c8",
   "metadata": {},
   "outputs": [
    {
     "data": {
      "text/plain": [
       "array([[15. ,  6. ],\n",
       "       [ 3.2, -1.5]], dtype=float32)"
      ]
     },
     "execution_count": 6,
     "metadata": {},
     "output_type": "execute_result"
    }
   ],
   "source": [
    "next(output) #2"
   ]
  },
  {
   "cell_type": "code",
   "execution_count": 7,
   "id": "908751c9-7d36-4d93-9202-fa93b373cca1",
   "metadata": {},
   "outputs": [
    {
     "data": {
      "text/plain": [
       "array([[ 3.2, -1.5],\n",
       "       [-3. , -2. ]], dtype=float32)"
      ]
     },
     "execution_count": 7,
     "metadata": {},
     "output_type": "execute_result"
    }
   ],
   "source": [
    "next(output) #3"
   ]
  },
  {
   "cell_type": "code",
   "execution_count": 8,
   "id": "7e4fd760-8d15-4f92-9b06-f98dc7f4ece4",
   "metadata": {},
   "outputs": [
    {
     "data": {
      "text/plain": [
       "array([[-3., -2.]], dtype=float32)"
      ]
     },
     "execution_count": 8,
     "metadata": {},
     "output_type": "execute_result"
    }
   ],
   "source": [
    "next(output) #4"
   ]
  },
  {
   "cell_type": "code",
   "execution_count": 9,
   "id": "a9943067-0dfe-4d4c-90e7-ba3880817b16",
   "metadata": {},
   "outputs": [
    {
     "data": {
      "text/plain": [
       "array([], shape=(0, 2), dtype=float32)"
      ]
     },
     "execution_count": 9,
     "metadata": {},
     "output_type": "execute_result"
    }
   ],
   "source": [
    "next(output) #5 Now the function finished the iterations and we get an empty array"
   ]
  },
  {
   "cell_type": "markdown",
   "id": "2e593982-3ad9-4414-abcb-a4677d9fa76e",
   "metadata": {},
   "source": [
    "This function streams two records in a NumPy array each time it is run (Instead we can use a loop to also iterate the through the function?).\n",
    "The use of `yield`statement instead of `return`: unlike `return`, `yield`produces a sequence of values whitout storing the entire sequence in the Python runtime memory, `yield`continues to produce a sequence each time we invoke the `next` function until the end of array is reached."
   ]
  },
  {
   "cell_type": "code",
   "execution_count": 10,
   "id": "fa27b4fc-1efb-438c-8b5a-a2fa195df8e2",
   "metadata": {},
   "outputs": [],
   "source": [
    "### for i in range(0, 4):\n",
    "###   print(next(output))\n",
    "### only working when the function is not already run 4 times. that's why is printing four empty arrays"
   ]
  },
  {
   "cell_type": "markdown",
   "id": "7dd1c2d1-ee45-4c01-974a-8dc61ffbb6fd",
   "metadata": {},
   "source": [
    "👁️ This array is held in Python runtime memory. Let's see how to iterate through a dataset stored in a local file"
   ]
  },
  {
   "cell_type": "code",
   "execution_count": null,
   "id": "0fb6fc0c-301a-41d6-98a1-1eb380ae7a36",
   "metadata": {},
   "outputs": [],
   "source": []
  }
 ],
 "metadata": {
  "kernelspec": {
   "display_name": "Python 3 (ipykernel)",
   "language": "python",
   "name": "python3"
  },
  "language_info": {
   "codemirror_mode": {
    "name": "ipython",
    "version": 3
   },
   "file_extension": ".py",
   "mimetype": "text/x-python",
   "name": "python",
   "nbconvert_exporter": "python",
   "pygments_lexer": "ipython3",
   "version": "3.10.10"
  }
 },
 "nbformat": 4,
 "nbformat_minor": 5
}
