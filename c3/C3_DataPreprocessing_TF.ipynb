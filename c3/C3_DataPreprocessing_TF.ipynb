{
  "nbformat": 4,
  "nbformat_minor": 0,
  "metadata": {
    "colab": {
      "provenance": [],
      "toc_visible": true
    },
    "kernelspec": {
      "name": "python3",
      "display_name": "Python 3"
    },
    "language_info": {
      "name": "python"
    }
  },
  "cells": [
    {
      "cell_type": "markdown",
      "source": [
        "## DATA PREPROCESSING\n",
        "\n",
        "These are the most common data that we are going to use in TensorFlow (Deep Learning)\n",
        "\n",
        "* Tables\n",
        "* Images\n",
        "* Text"
      ],
      "metadata": {
        "id": "WEsahsIsgsuD"
      }
    },
    {
      "cell_type": "markdown",
      "source": [
        " ### Preparing Tabular Data for Training\n",
        "\n",
        "It is important to identify which columns are considered categorical. Neural Networks and other models of Machine Learning should prefer numeric inputs (One Hot Encoder)\n",
        "Another aspect to take account of is the potential of interactions among multiple features\n"
      ],
      "metadata": {
        "id": "YmIO3KVfhTo0"
      }
    },
    {
      "cell_type": "markdown",
      "source": [
        "🤬 Sick of trying to use Titanic as an example. <br>\n",
        "🤔 There are lot's of dataset out there ¿? Bigger ones that can teach us better. <br>\n",
        "But I am still almost a newbie so I'll keep track of what books tell us to do"
      ],
      "metadata": {
        "id": "hVFq6H8UkM-a"
      }
    },
    {
      "cell_type": "code",
      "source": [
        "# Loading libraries\n",
        "import functools\n",
        "import numpy as np\n",
        "import tensorflow as tf\n",
        "import pandas as pd\n",
        "from tensorflow import feature_column\n",
        "from tensorflow.keras import layers\n",
        "from sklearn.model_selection import train_test_split"
      ],
      "metadata": {
        "id": "fPlbWyD0kjPA"
      },
      "execution_count": 1,
      "outputs": []
    },
    {
      "cell_type": "code",
      "source": [
        "# Load data from Google's public storage\n",
        "TRAIN_DATA_URL = 'https://storage.googleapis.com/tf-datasets/titanic/train.csv'\n",
        "TEST_DATA_URL = 'https://storage.googleapis.com/tf-datasets/titanic/eval.csv'\n",
        "\n",
        "train_file_path = tf.keras.utils.get_file('train.csv',TRAIN_DATA_URL)\n",
        "test_file_path = tf.keras.utils.get_file('eval.csv',TEST_DATA_URL)\n"
      ],
      "metadata": {
        "id": "1nwnZ0tsqxeS"
      },
      "execution_count": 2,
      "outputs": []
    },
    {
      "cell_type": "code",
      "source": [
        "print(train_file_path)"
      ],
      "metadata": {
        "colab": {
          "base_uri": "https://localhost:8080/"
        },
        "id": "CiyqqRe1r_AV",
        "outputId": "cdff8472-350a-4aad-df84-3b172afe440a"
      },
      "execution_count": 3,
      "outputs": [
        {
          "output_type": "stream",
          "name": "stdout",
          "text": [
            "/root/.keras/datasets/train.csv\n"
          ]
        }
      ]
    },
    {
      "cell_type": "markdown",
      "source": [
        "**📑 When datasets are bigger is a best prectice in TensorFlow to convert your table into a straming dataset.** <br>\n",
        "This ensures that memory consumption wil be not affected by data size"
      ],
      "metadata": {
        "id": "fC69auKvtz94"
      }
    },
    {
      "cell_type": "code",
      "source": [
        "train_df = pd.read_csv(train_file_path, header='infer')\n",
        "test_df = pd.read_csv(test_file_path, header='infer')"
      ],
      "metadata": {
        "id": "xMLXJuj2TzmD"
      },
      "execution_count": 4,
      "outputs": []
    },
    {
      "cell_type": "code",
      "source": [
        "train_df"
      ],
      "metadata": {
        "colab": {
          "base_uri": "https://localhost:8080/",
          "height": 424
        },
        "id": "yvltfQmMUrYC",
        "outputId": "63595185-7bcf-48fe-fb60-767b70e935f9"
      },
      "execution_count": 5,
      "outputs": [
        {
          "output_type": "execute_result",
          "data": {
            "text/plain": [
              "     survived     sex   age  n_siblings_spouses  parch     fare   class  \\\n",
              "0           0    male  22.0                   1      0   7.2500   Third   \n",
              "1           1  female  38.0                   1      0  71.2833   First   \n",
              "2           1  female  26.0                   0      0   7.9250   Third   \n",
              "3           1  female  35.0                   1      0  53.1000   First   \n",
              "4           0    male  28.0                   0      0   8.4583   Third   \n",
              "..        ...     ...   ...                 ...    ...      ...     ...   \n",
              "622         0    male  28.0                   0      0  10.5000  Second   \n",
              "623         0    male  25.0                   0      0   7.0500   Third   \n",
              "624         1  female  19.0                   0      0  30.0000   First   \n",
              "625         0  female  28.0                   1      2  23.4500   Third   \n",
              "626         0    male  32.0                   0      0   7.7500   Third   \n",
              "\n",
              "        deck  embark_town alone  \n",
              "0    unknown  Southampton     n  \n",
              "1          C    Cherbourg     n  \n",
              "2    unknown  Southampton     y  \n",
              "3          C  Southampton     n  \n",
              "4    unknown   Queenstown     y  \n",
              "..       ...          ...   ...  \n",
              "622  unknown  Southampton     y  \n",
              "623  unknown  Southampton     y  \n",
              "624        B  Southampton     y  \n",
              "625  unknown  Southampton     n  \n",
              "626  unknown   Queenstown     y  \n",
              "\n",
              "[627 rows x 10 columns]"
            ],
            "text/html": [
              "\n",
              "  <div id=\"df-839d1f81-f899-4044-8003-96771a4b5e10\" class=\"colab-df-container\">\n",
              "    <div>\n",
              "<style scoped>\n",
              "    .dataframe tbody tr th:only-of-type {\n",
              "        vertical-align: middle;\n",
              "    }\n",
              "\n",
              "    .dataframe tbody tr th {\n",
              "        vertical-align: top;\n",
              "    }\n",
              "\n",
              "    .dataframe thead th {\n",
              "        text-align: right;\n",
              "    }\n",
              "</style>\n",
              "<table border=\"1\" class=\"dataframe\">\n",
              "  <thead>\n",
              "    <tr style=\"text-align: right;\">\n",
              "      <th></th>\n",
              "      <th>survived</th>\n",
              "      <th>sex</th>\n",
              "      <th>age</th>\n",
              "      <th>n_siblings_spouses</th>\n",
              "      <th>parch</th>\n",
              "      <th>fare</th>\n",
              "      <th>class</th>\n",
              "      <th>deck</th>\n",
              "      <th>embark_town</th>\n",
              "      <th>alone</th>\n",
              "    </tr>\n",
              "  </thead>\n",
              "  <tbody>\n",
              "    <tr>\n",
              "      <th>0</th>\n",
              "      <td>0</td>\n",
              "      <td>male</td>\n",
              "      <td>22.0</td>\n",
              "      <td>1</td>\n",
              "      <td>0</td>\n",
              "      <td>7.2500</td>\n",
              "      <td>Third</td>\n",
              "      <td>unknown</td>\n",
              "      <td>Southampton</td>\n",
              "      <td>n</td>\n",
              "    </tr>\n",
              "    <tr>\n",
              "      <th>1</th>\n",
              "      <td>1</td>\n",
              "      <td>female</td>\n",
              "      <td>38.0</td>\n",
              "      <td>1</td>\n",
              "      <td>0</td>\n",
              "      <td>71.2833</td>\n",
              "      <td>First</td>\n",
              "      <td>C</td>\n",
              "      <td>Cherbourg</td>\n",
              "      <td>n</td>\n",
              "    </tr>\n",
              "    <tr>\n",
              "      <th>2</th>\n",
              "      <td>1</td>\n",
              "      <td>female</td>\n",
              "      <td>26.0</td>\n",
              "      <td>0</td>\n",
              "      <td>0</td>\n",
              "      <td>7.9250</td>\n",
              "      <td>Third</td>\n",
              "      <td>unknown</td>\n",
              "      <td>Southampton</td>\n",
              "      <td>y</td>\n",
              "    </tr>\n",
              "    <tr>\n",
              "      <th>3</th>\n",
              "      <td>1</td>\n",
              "      <td>female</td>\n",
              "      <td>35.0</td>\n",
              "      <td>1</td>\n",
              "      <td>0</td>\n",
              "      <td>53.1000</td>\n",
              "      <td>First</td>\n",
              "      <td>C</td>\n",
              "      <td>Southampton</td>\n",
              "      <td>n</td>\n",
              "    </tr>\n",
              "    <tr>\n",
              "      <th>4</th>\n",
              "      <td>0</td>\n",
              "      <td>male</td>\n",
              "      <td>28.0</td>\n",
              "      <td>0</td>\n",
              "      <td>0</td>\n",
              "      <td>8.4583</td>\n",
              "      <td>Third</td>\n",
              "      <td>unknown</td>\n",
              "      <td>Queenstown</td>\n",
              "      <td>y</td>\n",
              "    </tr>\n",
              "    <tr>\n",
              "      <th>...</th>\n",
              "      <td>...</td>\n",
              "      <td>...</td>\n",
              "      <td>...</td>\n",
              "      <td>...</td>\n",
              "      <td>...</td>\n",
              "      <td>...</td>\n",
              "      <td>...</td>\n",
              "      <td>...</td>\n",
              "      <td>...</td>\n",
              "      <td>...</td>\n",
              "    </tr>\n",
              "    <tr>\n",
              "      <th>622</th>\n",
              "      <td>0</td>\n",
              "      <td>male</td>\n",
              "      <td>28.0</td>\n",
              "      <td>0</td>\n",
              "      <td>0</td>\n",
              "      <td>10.5000</td>\n",
              "      <td>Second</td>\n",
              "      <td>unknown</td>\n",
              "      <td>Southampton</td>\n",
              "      <td>y</td>\n",
              "    </tr>\n",
              "    <tr>\n",
              "      <th>623</th>\n",
              "      <td>0</td>\n",
              "      <td>male</td>\n",
              "      <td>25.0</td>\n",
              "      <td>0</td>\n",
              "      <td>0</td>\n",
              "      <td>7.0500</td>\n",
              "      <td>Third</td>\n",
              "      <td>unknown</td>\n",
              "      <td>Southampton</td>\n",
              "      <td>y</td>\n",
              "    </tr>\n",
              "    <tr>\n",
              "      <th>624</th>\n",
              "      <td>1</td>\n",
              "      <td>female</td>\n",
              "      <td>19.0</td>\n",
              "      <td>0</td>\n",
              "      <td>0</td>\n",
              "      <td>30.0000</td>\n",
              "      <td>First</td>\n",
              "      <td>B</td>\n",
              "      <td>Southampton</td>\n",
              "      <td>y</td>\n",
              "    </tr>\n",
              "    <tr>\n",
              "      <th>625</th>\n",
              "      <td>0</td>\n",
              "      <td>female</td>\n",
              "      <td>28.0</td>\n",
              "      <td>1</td>\n",
              "      <td>2</td>\n",
              "      <td>23.4500</td>\n",
              "      <td>Third</td>\n",
              "      <td>unknown</td>\n",
              "      <td>Southampton</td>\n",
              "      <td>n</td>\n",
              "    </tr>\n",
              "    <tr>\n",
              "      <th>626</th>\n",
              "      <td>0</td>\n",
              "      <td>male</td>\n",
              "      <td>32.0</td>\n",
              "      <td>0</td>\n",
              "      <td>0</td>\n",
              "      <td>7.7500</td>\n",
              "      <td>Third</td>\n",
              "      <td>unknown</td>\n",
              "      <td>Queenstown</td>\n",
              "      <td>y</td>\n",
              "    </tr>\n",
              "  </tbody>\n",
              "</table>\n",
              "<p>627 rows × 10 columns</p>\n",
              "</div>\n",
              "    <div class=\"colab-df-buttons\">\n",
              "\n",
              "  <div class=\"colab-df-container\">\n",
              "    <button class=\"colab-df-convert\" onclick=\"convertToInteractive('df-839d1f81-f899-4044-8003-96771a4b5e10')\"\n",
              "            title=\"Convert this dataframe to an interactive table.\"\n",
              "            style=\"display:none;\">\n",
              "\n",
              "  <svg xmlns=\"http://www.w3.org/2000/svg\" height=\"24px\" viewBox=\"0 -960 960 960\">\n",
              "    <path d=\"M120-120v-720h720v720H120Zm60-500h600v-160H180v160Zm220 220h160v-160H400v160Zm0 220h160v-160H400v160ZM180-400h160v-160H180v160Zm440 0h160v-160H620v160ZM180-180h160v-160H180v160Zm440 0h160v-160H620v160Z\"/>\n",
              "  </svg>\n",
              "    </button>\n",
              "\n",
              "  <style>\n",
              "    .colab-df-container {\n",
              "      display:flex;\n",
              "      gap: 12px;\n",
              "    }\n",
              "\n",
              "    .colab-df-convert {\n",
              "      background-color: #E8F0FE;\n",
              "      border: none;\n",
              "      border-radius: 50%;\n",
              "      cursor: pointer;\n",
              "      display: none;\n",
              "      fill: #1967D2;\n",
              "      height: 32px;\n",
              "      padding: 0 0 0 0;\n",
              "      width: 32px;\n",
              "    }\n",
              "\n",
              "    .colab-df-convert:hover {\n",
              "      background-color: #E2EBFA;\n",
              "      box-shadow: 0px 1px 2px rgba(60, 64, 67, 0.3), 0px 1px 3px 1px rgba(60, 64, 67, 0.15);\n",
              "      fill: #174EA6;\n",
              "    }\n",
              "\n",
              "    .colab-df-buttons div {\n",
              "      margin-bottom: 4px;\n",
              "    }\n",
              "\n",
              "    [theme=dark] .colab-df-convert {\n",
              "      background-color: #3B4455;\n",
              "      fill: #D2E3FC;\n",
              "    }\n",
              "\n",
              "    [theme=dark] .colab-df-convert:hover {\n",
              "      background-color: #434B5C;\n",
              "      box-shadow: 0px 1px 3px 1px rgba(0, 0, 0, 0.15);\n",
              "      filter: drop-shadow(0px 1px 2px rgba(0, 0, 0, 0.3));\n",
              "      fill: #FFFFFF;\n",
              "    }\n",
              "  </style>\n",
              "\n",
              "    <script>\n",
              "      const buttonEl =\n",
              "        document.querySelector('#df-839d1f81-f899-4044-8003-96771a4b5e10 button.colab-df-convert');\n",
              "      buttonEl.style.display =\n",
              "        google.colab.kernel.accessAllowed ? 'block' : 'none';\n",
              "\n",
              "      async function convertToInteractive(key) {\n",
              "        const element = document.querySelector('#df-839d1f81-f899-4044-8003-96771a4b5e10');\n",
              "        const dataTable =\n",
              "          await google.colab.kernel.invokeFunction('convertToInteractive',\n",
              "                                                    [key], {});\n",
              "        if (!dataTable) return;\n",
              "\n",
              "        const docLinkHtml = 'Like what you see? Visit the ' +\n",
              "          '<a target=\"_blank\" href=https://colab.research.google.com/notebooks/data_table.ipynb>data table notebook</a>'\n",
              "          + ' to learn more about interactive tables.';\n",
              "        element.innerHTML = '';\n",
              "        dataTable['output_type'] = 'display_data';\n",
              "        await google.colab.output.renderOutput(dataTable, element);\n",
              "        const docLink = document.createElement('div');\n",
              "        docLink.innerHTML = docLinkHtml;\n",
              "        element.appendChild(docLink);\n",
              "      }\n",
              "    </script>\n",
              "  </div>\n",
              "\n",
              "\n",
              "<div id=\"df-c0fe349b-cd30-476c-a51c-9d1a88868d0f\">\n",
              "  <button class=\"colab-df-quickchart\" onclick=\"quickchart('df-c0fe349b-cd30-476c-a51c-9d1a88868d0f')\"\n",
              "            title=\"Suggest charts.\"\n",
              "            style=\"display:none;\">\n",
              "\n",
              "<svg xmlns=\"http://www.w3.org/2000/svg\" height=\"24px\"viewBox=\"0 0 24 24\"\n",
              "     width=\"24px\">\n",
              "    <g>\n",
              "        <path d=\"M19 3H5c-1.1 0-2 .9-2 2v14c0 1.1.9 2 2 2h14c1.1 0 2-.9 2-2V5c0-1.1-.9-2-2-2zM9 17H7v-7h2v7zm4 0h-2V7h2v10zm4 0h-2v-4h2v4z\"/>\n",
              "    </g>\n",
              "</svg>\n",
              "  </button>\n",
              "\n",
              "<style>\n",
              "  .colab-df-quickchart {\n",
              "      --bg-color: #E8F0FE;\n",
              "      --fill-color: #1967D2;\n",
              "      --hover-bg-color: #E2EBFA;\n",
              "      --hover-fill-color: #174EA6;\n",
              "      --disabled-fill-color: #AAA;\n",
              "      --disabled-bg-color: #DDD;\n",
              "  }\n",
              "\n",
              "  [theme=dark] .colab-df-quickchart {\n",
              "      --bg-color: #3B4455;\n",
              "      --fill-color: #D2E3FC;\n",
              "      --hover-bg-color: #434B5C;\n",
              "      --hover-fill-color: #FFFFFF;\n",
              "      --disabled-bg-color: #3B4455;\n",
              "      --disabled-fill-color: #666;\n",
              "  }\n",
              "\n",
              "  .colab-df-quickchart {\n",
              "    background-color: var(--bg-color);\n",
              "    border: none;\n",
              "    border-radius: 50%;\n",
              "    cursor: pointer;\n",
              "    display: none;\n",
              "    fill: var(--fill-color);\n",
              "    height: 32px;\n",
              "    padding: 0;\n",
              "    width: 32px;\n",
              "  }\n",
              "\n",
              "  .colab-df-quickchart:hover {\n",
              "    background-color: var(--hover-bg-color);\n",
              "    box-shadow: 0 1px 2px rgba(60, 64, 67, 0.3), 0 1px 3px 1px rgba(60, 64, 67, 0.15);\n",
              "    fill: var(--button-hover-fill-color);\n",
              "  }\n",
              "\n",
              "  .colab-df-quickchart-complete:disabled,\n",
              "  .colab-df-quickchart-complete:disabled:hover {\n",
              "    background-color: var(--disabled-bg-color);\n",
              "    fill: var(--disabled-fill-color);\n",
              "    box-shadow: none;\n",
              "  }\n",
              "\n",
              "  .colab-df-spinner {\n",
              "    border: 2px solid var(--fill-color);\n",
              "    border-color: transparent;\n",
              "    border-bottom-color: var(--fill-color);\n",
              "    animation:\n",
              "      spin 1s steps(1) infinite;\n",
              "  }\n",
              "\n",
              "  @keyframes spin {\n",
              "    0% {\n",
              "      border-color: transparent;\n",
              "      border-bottom-color: var(--fill-color);\n",
              "      border-left-color: var(--fill-color);\n",
              "    }\n",
              "    20% {\n",
              "      border-color: transparent;\n",
              "      border-left-color: var(--fill-color);\n",
              "      border-top-color: var(--fill-color);\n",
              "    }\n",
              "    30% {\n",
              "      border-color: transparent;\n",
              "      border-left-color: var(--fill-color);\n",
              "      border-top-color: var(--fill-color);\n",
              "      border-right-color: var(--fill-color);\n",
              "    }\n",
              "    40% {\n",
              "      border-color: transparent;\n",
              "      border-right-color: var(--fill-color);\n",
              "      border-top-color: var(--fill-color);\n",
              "    }\n",
              "    60% {\n",
              "      border-color: transparent;\n",
              "      border-right-color: var(--fill-color);\n",
              "    }\n",
              "    80% {\n",
              "      border-color: transparent;\n",
              "      border-right-color: var(--fill-color);\n",
              "      border-bottom-color: var(--fill-color);\n",
              "    }\n",
              "    90% {\n",
              "      border-color: transparent;\n",
              "      border-bottom-color: var(--fill-color);\n",
              "    }\n",
              "  }\n",
              "</style>\n",
              "\n",
              "  <script>\n",
              "    async function quickchart(key) {\n",
              "      const quickchartButtonEl =\n",
              "        document.querySelector('#' + key + ' button');\n",
              "      quickchartButtonEl.disabled = true;  // To prevent multiple clicks.\n",
              "      quickchartButtonEl.classList.add('colab-df-spinner');\n",
              "      try {\n",
              "        const charts = await google.colab.kernel.invokeFunction(\n",
              "            'suggestCharts', [key], {});\n",
              "      } catch (error) {\n",
              "        console.error('Error during call to suggestCharts:', error);\n",
              "      }\n",
              "      quickchartButtonEl.classList.remove('colab-df-spinner');\n",
              "      quickchartButtonEl.classList.add('colab-df-quickchart-complete');\n",
              "    }\n",
              "    (() => {\n",
              "      let quickchartButtonEl =\n",
              "        document.querySelector('#df-c0fe349b-cd30-476c-a51c-9d1a88868d0f button');\n",
              "      quickchartButtonEl.style.display =\n",
              "        google.colab.kernel.accessAllowed ? 'block' : 'none';\n",
              "    })();\n",
              "  </script>\n",
              "</div>\n",
              "    </div>\n",
              "  </div>\n"
            ]
          },
          "metadata": {},
          "execution_count": 5
        }
      ]
    },
    {
      "cell_type": "code",
      "source": [
        "# We can, with TensorFlow, set the target, the column for prediction, the label\n",
        "\n",
        "LABEL_COLUMN = 'survived'\n",
        "LABELS = [0,1]\n",
        "\n",
        "train_ds = tf.data.experimental.make_csv_dataset(\n",
        "    train_file_path,\n",
        "    batch_size=3,\n",
        "    label_name=LABEL_COLUMN,\n",
        "    na_value='?',\n",
        "    num_epochs=1)\n",
        "train_ds = train_ds.ignore_errors()\n",
        "\n",
        "test_ds = tf.data.experimental.make_csv_dataset(\n",
        "    test_file_path,\n",
        "    batch_size=3,\n",
        "    label_name=LABEL_COLUMN,\n",
        "    na_value='?',\n",
        "    num_epochs=1)\n",
        "test_ds = test_ds.ignore_errors()\n"
      ],
      "metadata": {
        "id": "nLnu00Ags-M4"
      },
      "execution_count": 6,
      "outputs": []
    },
    {
      "cell_type": "code",
      "source": [
        "# Inspect the data\n",
        "for batch, label in train_ds.take(1):\n",
        "  print(label)\n",
        "  for key, value in batch.items():\n",
        "    print('{}: {}'.format(key,value.numpy()))"
      ],
      "metadata": {
        "id": "qqnamcz3xVxX",
        "colab": {
          "base_uri": "https://localhost:8080/"
        },
        "outputId": "6dafc23a-3df4-4315-e6ec-bfe5097c2d94"
      },
      "execution_count": 7,
      "outputs": [
        {
          "output_type": "stream",
          "name": "stdout",
          "text": [
            "tf.Tensor([0 1 1], shape=(3,), dtype=int32)\n",
            "sex: [b'male' b'male' b'female']\n",
            "age: [28. 28. 18.]\n",
            "n_siblings_spouses: [0 0 0]\n",
            "parch: [0 0 2]\n",
            "fare: [ 7.8958 56.4958 13.    ]\n",
            "class: [b'Third' b'Third' b'Second']\n",
            "deck: [b'unknown' b'unknown' b'unknown']\n",
            "embark_town: [b'Southampton' b'Southampton' b'Southampton']\n",
            "alone: [b'y' b'y' b'n']\n"
          ]
        }
      ]
    },
    {
      "cell_type": "markdown",
      "source": [
        "#### Major steps for training a paradigm to consume your training dataset:\n",
        "\n",
        "* Designate columns by features type\n",
        "* Decide wether or not to embed or cross columns\n",
        "* Choose the columns of interest, possibly as an experiment\n",
        "* Create a 'feature layer' for consumption by the training paradigm"
      ],
      "metadata": {
        "id": "bWHMUnDUy0Z7"
      }
    },
    {
      "cell_type": "markdown",
      "source": [
        "##### Features types\n",
        "Four numeric columns: 'age', 'n_siblings_spouses', 'parch', 'fares' <br>\n",
        "Five categorical columns: 'sex','class','deck', 'embark_town', 'alone'"
      ],
      "metadata": {
        "id": "szkE280j2DYy"
      }
    },
    {
      "cell_type": "code",
      "source": [
        "feature_columns = []\n",
        "\n",
        "# numeric cols\n",
        "for header in ['age', 'n_siblings_spouses', 'parch', 'fare']:\n",
        "  feature_columns.append(layers.Input(shape=(1,), name=header))\n",
        "\n",
        "# other feature columns (categorical, etc.) could be added here"
      ],
      "metadata": {
        "id": "SaHXUhsL2sCp"
      },
      "execution_count": 8,
      "outputs": []
    },
    {
      "cell_type": "code",
      "source": [
        "train_df.describe()"
      ],
      "metadata": {
        "colab": {
          "base_uri": "https://localhost:8080/",
          "height": 300
        },
        "id": "yFgvK8R-3mAg",
        "outputId": "8ca1cd21-9c96-4437-f6e2-0016b3055f04"
      },
      "execution_count": 9,
      "outputs": [
        {
          "output_type": "execute_result",
          "data": {
            "text/plain": [
              "         survived         age  n_siblings_spouses       parch        fare\n",
              "count  627.000000  627.000000          627.000000  627.000000  627.000000\n",
              "mean     0.387560   29.631308            0.545455    0.379585   34.385399\n",
              "std      0.487582   12.511818            1.151090    0.792999   54.597730\n",
              "min      0.000000    0.750000            0.000000    0.000000    0.000000\n",
              "25%      0.000000   23.000000            0.000000    0.000000    7.895800\n",
              "50%      0.000000   28.000000            0.000000    0.000000   15.045800\n",
              "75%      1.000000   35.000000            1.000000    0.000000   31.387500\n",
              "max      1.000000   80.000000            8.000000    5.000000  512.329200"
            ],
            "text/html": [
              "\n",
              "  <div id=\"df-89cf5b01-7a92-4278-85ef-cf4d80f53907\" class=\"colab-df-container\">\n",
              "    <div>\n",
              "<style scoped>\n",
              "    .dataframe tbody tr th:only-of-type {\n",
              "        vertical-align: middle;\n",
              "    }\n",
              "\n",
              "    .dataframe tbody tr th {\n",
              "        vertical-align: top;\n",
              "    }\n",
              "\n",
              "    .dataframe thead th {\n",
              "        text-align: right;\n",
              "    }\n",
              "</style>\n",
              "<table border=\"1\" class=\"dataframe\">\n",
              "  <thead>\n",
              "    <tr style=\"text-align: right;\">\n",
              "      <th></th>\n",
              "      <th>survived</th>\n",
              "      <th>age</th>\n",
              "      <th>n_siblings_spouses</th>\n",
              "      <th>parch</th>\n",
              "      <th>fare</th>\n",
              "    </tr>\n",
              "  </thead>\n",
              "  <tbody>\n",
              "    <tr>\n",
              "      <th>count</th>\n",
              "      <td>627.000000</td>\n",
              "      <td>627.000000</td>\n",
              "      <td>627.000000</td>\n",
              "      <td>627.000000</td>\n",
              "      <td>627.000000</td>\n",
              "    </tr>\n",
              "    <tr>\n",
              "      <th>mean</th>\n",
              "      <td>0.387560</td>\n",
              "      <td>29.631308</td>\n",
              "      <td>0.545455</td>\n",
              "      <td>0.379585</td>\n",
              "      <td>34.385399</td>\n",
              "    </tr>\n",
              "    <tr>\n",
              "      <th>std</th>\n",
              "      <td>0.487582</td>\n",
              "      <td>12.511818</td>\n",
              "      <td>1.151090</td>\n",
              "      <td>0.792999</td>\n",
              "      <td>54.597730</td>\n",
              "    </tr>\n",
              "    <tr>\n",
              "      <th>min</th>\n",
              "      <td>0.000000</td>\n",
              "      <td>0.750000</td>\n",
              "      <td>0.000000</td>\n",
              "      <td>0.000000</td>\n",
              "      <td>0.000000</td>\n",
              "    </tr>\n",
              "    <tr>\n",
              "      <th>25%</th>\n",
              "      <td>0.000000</td>\n",
              "      <td>23.000000</td>\n",
              "      <td>0.000000</td>\n",
              "      <td>0.000000</td>\n",
              "      <td>7.895800</td>\n",
              "    </tr>\n",
              "    <tr>\n",
              "      <th>50%</th>\n",
              "      <td>0.000000</td>\n",
              "      <td>28.000000</td>\n",
              "      <td>0.000000</td>\n",
              "      <td>0.000000</td>\n",
              "      <td>15.045800</td>\n",
              "    </tr>\n",
              "    <tr>\n",
              "      <th>75%</th>\n",
              "      <td>1.000000</td>\n",
              "      <td>35.000000</td>\n",
              "      <td>1.000000</td>\n",
              "      <td>0.000000</td>\n",
              "      <td>31.387500</td>\n",
              "    </tr>\n",
              "    <tr>\n",
              "      <th>max</th>\n",
              "      <td>1.000000</td>\n",
              "      <td>80.000000</td>\n",
              "      <td>8.000000</td>\n",
              "      <td>5.000000</td>\n",
              "      <td>512.329200</td>\n",
              "    </tr>\n",
              "  </tbody>\n",
              "</table>\n",
              "</div>\n",
              "    <div class=\"colab-df-buttons\">\n",
              "\n",
              "  <div class=\"colab-df-container\">\n",
              "    <button class=\"colab-df-convert\" onclick=\"convertToInteractive('df-89cf5b01-7a92-4278-85ef-cf4d80f53907')\"\n",
              "            title=\"Convert this dataframe to an interactive table.\"\n",
              "            style=\"display:none;\">\n",
              "\n",
              "  <svg xmlns=\"http://www.w3.org/2000/svg\" height=\"24px\" viewBox=\"0 -960 960 960\">\n",
              "    <path d=\"M120-120v-720h720v720H120Zm60-500h600v-160H180v160Zm220 220h160v-160H400v160Zm0 220h160v-160H400v160ZM180-400h160v-160H180v160Zm440 0h160v-160H620v160ZM180-180h160v-160H180v160Zm440 0h160v-160H620v160Z\"/>\n",
              "  </svg>\n",
              "    </button>\n",
              "\n",
              "  <style>\n",
              "    .colab-df-container {\n",
              "      display:flex;\n",
              "      gap: 12px;\n",
              "    }\n",
              "\n",
              "    .colab-df-convert {\n",
              "      background-color: #E8F0FE;\n",
              "      border: none;\n",
              "      border-radius: 50%;\n",
              "      cursor: pointer;\n",
              "      display: none;\n",
              "      fill: #1967D2;\n",
              "      height: 32px;\n",
              "      padding: 0 0 0 0;\n",
              "      width: 32px;\n",
              "    }\n",
              "\n",
              "    .colab-df-convert:hover {\n",
              "      background-color: #E2EBFA;\n",
              "      box-shadow: 0px 1px 2px rgba(60, 64, 67, 0.3), 0px 1px 3px 1px rgba(60, 64, 67, 0.15);\n",
              "      fill: #174EA6;\n",
              "    }\n",
              "\n",
              "    .colab-df-buttons div {\n",
              "      margin-bottom: 4px;\n",
              "    }\n",
              "\n",
              "    [theme=dark] .colab-df-convert {\n",
              "      background-color: #3B4455;\n",
              "      fill: #D2E3FC;\n",
              "    }\n",
              "\n",
              "    [theme=dark] .colab-df-convert:hover {\n",
              "      background-color: #434B5C;\n",
              "      box-shadow: 0px 1px 3px 1px rgba(0, 0, 0, 0.15);\n",
              "      filter: drop-shadow(0px 1px 2px rgba(0, 0, 0, 0.3));\n",
              "      fill: #FFFFFF;\n",
              "    }\n",
              "  </style>\n",
              "\n",
              "    <script>\n",
              "      const buttonEl =\n",
              "        document.querySelector('#df-89cf5b01-7a92-4278-85ef-cf4d80f53907 button.colab-df-convert');\n",
              "      buttonEl.style.display =\n",
              "        google.colab.kernel.accessAllowed ? 'block' : 'none';\n",
              "\n",
              "      async function convertToInteractive(key) {\n",
              "        const element = document.querySelector('#df-89cf5b01-7a92-4278-85ef-cf4d80f53907');\n",
              "        const dataTable =\n",
              "          await google.colab.kernel.invokeFunction('convertToInteractive',\n",
              "                                                    [key], {});\n",
              "        if (!dataTable) return;\n",
              "\n",
              "        const docLinkHtml = 'Like what you see? Visit the ' +\n",
              "          '<a target=\"_blank\" href=https://colab.research.google.com/notebooks/data_table.ipynb>data table notebook</a>'\n",
              "          + ' to learn more about interactive tables.';\n",
              "        element.innerHTML = '';\n",
              "        dataTable['output_type'] = 'display_data';\n",
              "        await google.colab.output.renderOutput(dataTable, element);\n",
              "        const docLink = document.createElement('div');\n",
              "        docLink.innerHTML = docLinkHtml;\n",
              "        element.appendChild(docLink);\n",
              "      }\n",
              "    </script>\n",
              "  </div>\n",
              "\n",
              "\n",
              "<div id=\"df-e4ba0b4e-554e-402b-b8b5-3e0724216e19\">\n",
              "  <button class=\"colab-df-quickchart\" onclick=\"quickchart('df-e4ba0b4e-554e-402b-b8b5-3e0724216e19')\"\n",
              "            title=\"Suggest charts.\"\n",
              "            style=\"display:none;\">\n",
              "\n",
              "<svg xmlns=\"http://www.w3.org/2000/svg\" height=\"24px\"viewBox=\"0 0 24 24\"\n",
              "     width=\"24px\">\n",
              "    <g>\n",
              "        <path d=\"M19 3H5c-1.1 0-2 .9-2 2v14c0 1.1.9 2 2 2h14c1.1 0 2-.9 2-2V5c0-1.1-.9-2-2-2zM9 17H7v-7h2v7zm4 0h-2V7h2v10zm4 0h-2v-4h2v4z\"/>\n",
              "    </g>\n",
              "</svg>\n",
              "  </button>\n",
              "\n",
              "<style>\n",
              "  .colab-df-quickchart {\n",
              "      --bg-color: #E8F0FE;\n",
              "      --fill-color: #1967D2;\n",
              "      --hover-bg-color: #E2EBFA;\n",
              "      --hover-fill-color: #174EA6;\n",
              "      --disabled-fill-color: #AAA;\n",
              "      --disabled-bg-color: #DDD;\n",
              "  }\n",
              "\n",
              "  [theme=dark] .colab-df-quickchart {\n",
              "      --bg-color: #3B4455;\n",
              "      --fill-color: #D2E3FC;\n",
              "      --hover-bg-color: #434B5C;\n",
              "      --hover-fill-color: #FFFFFF;\n",
              "      --disabled-bg-color: #3B4455;\n",
              "      --disabled-fill-color: #666;\n",
              "  }\n",
              "\n",
              "  .colab-df-quickchart {\n",
              "    background-color: var(--bg-color);\n",
              "    border: none;\n",
              "    border-radius: 50%;\n",
              "    cursor: pointer;\n",
              "    display: none;\n",
              "    fill: var(--fill-color);\n",
              "    height: 32px;\n",
              "    padding: 0;\n",
              "    width: 32px;\n",
              "  }\n",
              "\n",
              "  .colab-df-quickchart:hover {\n",
              "    background-color: var(--hover-bg-color);\n",
              "    box-shadow: 0 1px 2px rgba(60, 64, 67, 0.3), 0 1px 3px 1px rgba(60, 64, 67, 0.15);\n",
              "    fill: var(--button-hover-fill-color);\n",
              "  }\n",
              "\n",
              "  .colab-df-quickchart-complete:disabled,\n",
              "  .colab-df-quickchart-complete:disabled:hover {\n",
              "    background-color: var(--disabled-bg-color);\n",
              "    fill: var(--disabled-fill-color);\n",
              "    box-shadow: none;\n",
              "  }\n",
              "\n",
              "  .colab-df-spinner {\n",
              "    border: 2px solid var(--fill-color);\n",
              "    border-color: transparent;\n",
              "    border-bottom-color: var(--fill-color);\n",
              "    animation:\n",
              "      spin 1s steps(1) infinite;\n",
              "  }\n",
              "\n",
              "  @keyframes spin {\n",
              "    0% {\n",
              "      border-color: transparent;\n",
              "      border-bottom-color: var(--fill-color);\n",
              "      border-left-color: var(--fill-color);\n",
              "    }\n",
              "    20% {\n",
              "      border-color: transparent;\n",
              "      border-left-color: var(--fill-color);\n",
              "      border-top-color: var(--fill-color);\n",
              "    }\n",
              "    30% {\n",
              "      border-color: transparent;\n",
              "      border-left-color: var(--fill-color);\n",
              "      border-top-color: var(--fill-color);\n",
              "      border-right-color: var(--fill-color);\n",
              "    }\n",
              "    40% {\n",
              "      border-color: transparent;\n",
              "      border-right-color: var(--fill-color);\n",
              "      border-top-color: var(--fill-color);\n",
              "    }\n",
              "    60% {\n",
              "      border-color: transparent;\n",
              "      border-right-color: var(--fill-color);\n",
              "    }\n",
              "    80% {\n",
              "      border-color: transparent;\n",
              "      border-right-color: var(--fill-color);\n",
              "      border-bottom-color: var(--fill-color);\n",
              "    }\n",
              "    90% {\n",
              "      border-color: transparent;\n",
              "      border-bottom-color: var(--fill-color);\n",
              "    }\n",
              "  }\n",
              "</style>\n",
              "\n",
              "  <script>\n",
              "    async function quickchart(key) {\n",
              "      const quickchartButtonEl =\n",
              "        document.querySelector('#' + key + ' button');\n",
              "      quickchartButtonEl.disabled = true;  // To prevent multiple clicks.\n",
              "      quickchartButtonEl.classList.add('colab-df-spinner');\n",
              "      try {\n",
              "        const charts = await google.colab.kernel.invokeFunction(\n",
              "            'suggestCharts', [key], {});\n",
              "      } catch (error) {\n",
              "        console.error('Error during call to suggestCharts:', error);\n",
              "      }\n",
              "      quickchartButtonEl.classList.remove('colab-df-spinner');\n",
              "      quickchartButtonEl.classList.add('colab-df-quickchart-complete');\n",
              "    }\n",
              "    (() => {\n",
              "      let quickchartButtonEl =\n",
              "        document.querySelector('#df-e4ba0b4e-554e-402b-b8b5-3e0724216e19 button');\n",
              "      quickchartButtonEl.style.display =\n",
              "        google.colab.kernel.accessAllowed ? 'block' : 'none';\n",
              "    })();\n",
              "  </script>\n",
              "</div>\n",
              "    </div>\n",
              "  </div>\n"
            ]
          },
          "metadata": {},
          "execution_count": 9
        }
      ]
    },
    {
      "cell_type": "code",
      "source": [
        "age = feature_column.numeric_column('age')\n",
        "age_input = layers.Input(shape=(1,), name='age')\n",
        "age_buckets = feature_column.bucketized_column(age, boundaries=[23, 28, 35])"
      ],
      "metadata": {
        "colab": {
          "base_uri": "https://localhost:8080/"
        },
        "id": "pNeu6fm7WdpJ",
        "outputId": "a326e410-b056-4fd7-a09c-7adc18a005b3"
      },
      "execution_count": 10,
      "outputs": [
        {
          "output_type": "stream",
          "name": "stderr",
          "text": [
            "WARNING:tensorflow:From <ipython-input-10-48717b728c2c>:1: numeric_column (from tensorflow.python.feature_column.feature_column_v2) is deprecated and will be removed in a future version.\n",
            "Instructions for updating:\n",
            "Use Keras preprocessing layers instead, either directly or via the `tf.keras.utils.FeatureSpace` utility. Each of `tf.feature_column.*` has a functional equivalent in `tf.keras.layers` for feature preprocessing when training a Keras model.\n",
            "WARNING:tensorflow:From <ipython-input-10-48717b728c2c>:3: bucketized_column (from tensorflow.python.feature_column.feature_column_v2) is deprecated and will be removed in a future version.\n",
            "Instructions for updating:\n",
            "Use Keras preprocessing layers instead, either directly or via the `tf.keras.utils.FeatureSpace` utility. Each of `tf.feature_column.*` has a functional equivalent in `tf.keras.layers` for feature preprocessing when training a Keras model.\n"
          ]
        }
      ]
    },
    {
      "cell_type": "code",
      "source": [
        "h = {}\n",
        "\n",
        "for col in train_df:\n",
        "  if col in ['sex','class','deck', 'embark_town', 'alone']:\n",
        "    print(col, ':', train_df[col].unique())\n",
        "    h[col] = train_df[col].unique()"
      ],
      "metadata": {
        "colab": {
          "base_uri": "https://localhost:8080/"
        },
        "id": "LZgqumHRYXwX",
        "outputId": "9bf90de3-63cc-4ad3-d9c7-7ce36afd8ff7"
      },
      "execution_count": 11,
      "outputs": [
        {
          "output_type": "stream",
          "name": "stdout",
          "text": [
            "sex : ['male' 'female']\n",
            "class : ['Third' 'First' 'Second']\n",
            "deck : ['unknown' 'C' 'G' 'A' 'B' 'D' 'F' 'E']\n",
            "embark_town : ['Southampton' 'Cherbourg' 'Queenstown' 'unknown']\n",
            "alone : ['n' 'y']\n"
          ]
        }
      ]
    },
    {
      "cell_type": "code",
      "source": [
        "sex_type = feature_column.categorical_column_with_vocabulary_list('Type', h.get('sex').tolist())\n",
        "sex_type_one_hot = feature_column.indicator_column(sex_type)\n",
        "\n",
        "class_type = feature_column.categorical_column_with_vocabulary_list('Type', h.get('class').tolist())\n",
        "class_type_one_hot = feature_column.indicator_column(class_type)\n",
        "\n",
        "deck_type = feature_column.categorical_column_with_vocabulary_list('Type', h.get('deck').tolist())\n",
        "deck_type_one_hot = feature_column.indicator_column(deck_type)\n",
        "\n",
        "embark_town_type = feature_column.categorical_column_with_vocabulary_list('Type', h.get('embark_town').tolist())\n",
        "embark_town_type_one_hot = feature_column.indicator_column(embark_town_type)\n",
        "\n",
        "alone_type = feature_column.categorical_column_with_vocabulary_list('Type', h.get('alone').tolist())\n",
        "alone_type_one_hot = feature_column.indicator_column(alone_type)\n"
      ],
      "metadata": {
        "colab": {
          "base_uri": "https://localhost:8080/"
        },
        "id": "Jc2A137ZdLZr",
        "outputId": "21676fc2-d643-4b1c-99f0-25511f47f226"
      },
      "execution_count": 12,
      "outputs": [
        {
          "output_type": "stream",
          "name": "stderr",
          "text": [
            "WARNING:tensorflow:From <ipython-input-12-a11815b0471b>:1: categorical_column_with_vocabulary_list (from tensorflow.python.feature_column.feature_column_v2) is deprecated and will be removed in a future version.\n",
            "Instructions for updating:\n",
            "Use Keras preprocessing layers instead, either directly or via the `tf.keras.utils.FeatureSpace` utility. Each of `tf.feature_column.*` has a functional equivalent in `tf.keras.layers` for feature preprocessing when training a Keras model.\n",
            "WARNING:tensorflow:From <ipython-input-12-a11815b0471b>:2: indicator_column (from tensorflow.python.feature_column.feature_column_v2) is deprecated and will be removed in a future version.\n",
            "Instructions for updating:\n",
            "Use Keras preprocessing layers instead, either directly or via the `tf.keras.utils.FeatureSpace` utility. Each of `tf.feature_column.*` has a functional equivalent in `tf.keras.layers` for feature preprocessing when training a Keras model.\n"
          ]
        }
      ]
    },
    {
      "cell_type": "code",
      "source": [
        "deck = feature_column.categorical_column_with_vocabulary_list('deck',train_df.deck.unique())\n",
        "deck_embedding = feature_column.embedding_column(deck, dimension=3)"
      ],
      "metadata": {
        "colab": {
          "base_uri": "https://localhost:8080/"
        },
        "id": "AnQjxeZX47VQ",
        "outputId": "3bb6ffa7-48f3-45e2-f207-91fc22a3fda6"
      },
      "execution_count": 13,
      "outputs": [
        {
          "output_type": "stream",
          "name": "stderr",
          "text": [
            "WARNING:tensorflow:From <ipython-input-13-aabdf1abf9b9>:2: embedding_column (from tensorflow.python.feature_column.feature_column_v2) is deprecated and will be removed in a future version.\n",
            "Instructions for updating:\n",
            "Use Keras preprocessing layers instead, either directly or via the `tf.keras.utils.FeatureSpace` utility. Each of `tf.feature_column.*` has a functional equivalent in `tf.keras.layers` for feature preprocessing when training a Keras model.\n"
          ]
        }
      ]
    },
    {
      "cell_type": "code",
      "source": [
        "class_hashed = feature_column.categorical_column_with_hash_bucket('class', hash_bucket_size=4)"
      ],
      "metadata": {
        "colab": {
          "base_uri": "https://localhost:8080/"
        },
        "id": "FL6XnDM45V0T",
        "outputId": "daf1c83b-e66a-4f49-f1a5-30dc8f454f69"
      },
      "execution_count": 14,
      "outputs": [
        {
          "output_type": "stream",
          "name": "stderr",
          "text": [
            "WARNING:tensorflow:From <ipython-input-14-ed317f2473b3>:1: categorical_column_with_hash_bucket (from tensorflow.python.feature_column.feature_column_v2) is deprecated and will be removed in a future version.\n",
            "Instructions for updating:\n",
            "Use Keras preprocessing layers instead, either directly or via the `tf.keras.utils.FeatureSpace` utility. Each of `tf.feature_column.*` has a functional equivalent in `tf.keras.layers` for feature preprocessing when training a Keras model.\n"
          ]
        }
      ]
    },
    {
      "cell_type": "markdown",
      "source": [
        "##### Encoding Column Interactions as Possible Features\n",
        "\n",
        "Sometimes intuition, experience and knowledge allows us to create new features by finding interactions between existing features"
      ],
      "metadata": {
        "id": "6JSwwYorr0oR"
      }
    },
    {
      "cell_type": "code",
      "source": [
        "cross_type_feature = feature_column.crossed_column(['sex','class'], hash_bucket_size=5)"
      ],
      "metadata": {
        "colab": {
          "base_uri": "https://localhost:8080/"
        },
        "id": "F8CiPziF3Ncv",
        "outputId": "0115c6bc-d535-49eb-a260-6fd457882e7c"
      },
      "execution_count": 15,
      "outputs": [
        {
          "output_type": "stream",
          "name": "stderr",
          "text": [
            "WARNING:tensorflow:From <ipython-input-15-4eceac261888>:1: crossed_column (from tensorflow.python.feature_column.feature_column_v2) is deprecated and will be removed in a future version.\n",
            "Instructions for updating:\n",
            "Use `tf.keras.layers.experimental.preprocessing.HashedCrossing` instead for feature crossing when preprocessing data to train a Keras model.\n"
          ]
        }
      ]
    },
    {
      "cell_type": "code",
      "source": [
        "# Start appending modified data\n",
        "feature_columns = []\n",
        "\n",
        "# Append numeric columns\n",
        "for header in ['age', 'n_siblings_spouses', 'parch', 'fare']:\n",
        "  feature_columns.append(feature_column.numeric_column(header))\n",
        "\n",
        "# Append bucketized columns\n",
        "age = feature_column.numeric_column('age')\n",
        "age_buckets = feature_column.bucketized_column(age, boundaries=[23, 28, 35])\n",
        "feature_columns.append(age_buckets)\n",
        "\n"
      ],
      "metadata": {
        "id": "bavMBYBC3_aw"
      },
      "execution_count": 16,
      "outputs": []
    },
    {
      "cell_type": "code",
      "source": [
        "# indicator_columns\n",
        "indicator_column_names = ['sex', 'class', 'deck', 'embark_town', 'alone']\n",
        "for col_name in indicator_column_names:\n",
        "  categorical_column = feature_column.categorical_column_with_vocabulary_list(\n",
        "      col_name, train_df[col_name].unique())\n",
        "  indicator_column = feature_column.indicator_column(categorical_column)\n",
        "  feature_columns.append(indicator_column)"
      ],
      "metadata": {
        "id": "qAbPNN2r8aDp"
      },
      "execution_count": 17,
      "outputs": []
    },
    {
      "cell_type": "code",
      "source": [
        "# Append embedding columns\n",
        "deck = feature_column.categorical_column_with_vocabulary_list(\n",
        "    'deck', train_df.deck.unique())\n",
        "deck_embedding = feature_column.embedding_column(deck, dimension=3)\n",
        "feature_columns.append(deck_embedding)"
      ],
      "metadata": {
        "id": "JGVWZECR6GpV"
      },
      "execution_count": 18,
      "outputs": []
    },
    {
      "cell_type": "code",
      "source": [
        "# Append crossed columns\n",
        "feature_columns.append(feature_column.indicator_column(cross_type_feature))"
      ],
      "metadata": {
        "id": "Bb70h2TAPnH3"
      },
      "execution_count": 19,
      "outputs": []
    },
    {
      "cell_type": "code",
      "source": [
        "# Now create a feature layer\n",
        "feature_layer = tf.keras.layers.DenseFeatures(feature_columns)"
      ],
      "metadata": {
        "id": "og84GDYSP0cd"
      },
      "execution_count": 20,
      "outputs": []
    },
    {
      "cell_type": "markdown",
      "source": [
        "This layer will serve as the first input of the model we are going to build and train. This is how you'll provide all the feature engineering framewroks for the model's training process"
      ],
      "metadata": {
        "id": "jCkxvHd0QXcl"
      }
    },
    {
      "cell_type": "markdown",
      "source": [
        "##### Creating a Cross-Validation Dataset\n",
        "\n",
        "We need to create a small set of our data for cross-validation purposes.<br>\n",
        "(training, validation, testing)"
      ],
      "metadata": {
        "id": "KdqszzoLRPum"
      }
    },
    {
      "cell_type": "code",
      "source": [
        "val_df, test_df = train_test_split(test_df, test_size = 0.4)"
      ],
      "metadata": {
        "id": "XplkcZaKSv7T"
      },
      "execution_count": 21,
      "outputs": []
    },
    {
      "cell_type": "code",
      "source": [
        "batch_size = 33\n",
        "labels = train_df.pop('survived')\n",
        "working_ds = tf.data.Dataset.from_tensor_slices((dict(train_df), labels))\n",
        "working_ds = working_ds.shuffle(buffer_size=len(train_df))\n",
        "train_ds = working_ds.batch(batch_size)"
      ],
      "metadata": {
        "id": "g65s0u-qYcw6"
      },
      "execution_count": 24,
      "outputs": []
    },
    {
      "cell_type": "code",
      "source": [
        "# A utility method to create a tf.data dataset from a Pandas Dataframe\n",
        "def pandas_to_dataset(dataframe, shuffle=True, batch_size=32):\n",
        "  dataframe = dataframe.copy()\n",
        "  labels = dataframe.pop('survived')\n",
        "  ds = tf.data.Dataset.from_tensor_slices((dict(dataframe), labels))\n",
        "  if shuffle:\n",
        "    ds = ds.shuffle(buffer_size=len(dataframe))\n",
        "  ds = ds.batch(batch_size)\n",
        "  return ds"
      ],
      "metadata": {
        "id": "m8Qpe4ioTCgO"
      },
      "execution_count": 25,
      "outputs": []
    },
    {
      "cell_type": "code",
      "source": [
        "val_ds = pandas_to_dataset(val_df, shuffle=False, batch_size=batch_size)\n",
        "test_ds = pandas_to_dataset(test_df, shuffle=False, batch_size=batch_size)"
      ],
      "metadata": {
        "id": "e5GwTY48Wenh"
      },
      "execution_count": 26,
      "outputs": []
    },
    {
      "cell_type": "code",
      "source": [
        " # 1. Build the model\n",
        " model=tf.keras.Sequential([\n",
        "    feature_layer,\n",
        "    layers.Dense(128, activation='relu'),\n",
        "    layers.Dense(128, activation='relu'),\n",
        "    layers.Dropout(.1),\n",
        "    layers.Dense(1)])\n",
        "\n",
        " model.compile(optimizer='adam',\n",
        "               loss=tf.keras.losses.BinaryCrossentropy(from_logits=True),\n",
        "               metrics=['accuracy'])\n",
        "\n",
        " model.fit(train_ds, validation_data=val_ds, epochs=100)"
      ],
      "metadata": {
        "colab": {
          "base_uri": "https://localhost:8080/"
        },
        "id": "evg-UVw4YKgu",
        "outputId": "c5f8a5c4-414f-4631-bdcc-8bdfc6b46760"
      },
      "execution_count": 31,
      "outputs": [
        {
          "output_type": "stream",
          "name": "stdout",
          "text": [
            "Epoch 1/100\n"
          ]
        },
        {
          "output_type": "stream",
          "name": "stderr",
          "text": [
            "WARNING:tensorflow:Layers in a Sequential model should only have a single input tensor. Received: inputs={'sex': <tf.Tensor 'IteratorGetNext:8' shape=(None,) dtype=string>, 'age': <tf.Tensor 'IteratorGetNext:0' shape=(None,) dtype=float64>, 'n_siblings_spouses': <tf.Tensor 'IteratorGetNext:6' shape=(None,) dtype=int64>, 'parch': <tf.Tensor 'IteratorGetNext:7' shape=(None,) dtype=int64>, 'fare': <tf.Tensor 'IteratorGetNext:5' shape=(None,) dtype=float64>, 'class': <tf.Tensor 'IteratorGetNext:2' shape=(None,) dtype=string>, 'deck': <tf.Tensor 'IteratorGetNext:3' shape=(None,) dtype=string>, 'embark_town': <tf.Tensor 'IteratorGetNext:4' shape=(None,) dtype=string>, 'alone': <tf.Tensor 'IteratorGetNext:1' shape=(None,) dtype=string>}. Consider rewriting this model with the Functional API.\n",
            "WARNING:tensorflow:Layers in a Sequential model should only have a single input tensor. Received: inputs={'sex': <tf.Tensor 'IteratorGetNext:8' shape=(None,) dtype=string>, 'age': <tf.Tensor 'IteratorGetNext:0' shape=(None,) dtype=float64>, 'n_siblings_spouses': <tf.Tensor 'IteratorGetNext:6' shape=(None,) dtype=int64>, 'parch': <tf.Tensor 'IteratorGetNext:7' shape=(None,) dtype=int64>, 'fare': <tf.Tensor 'IteratorGetNext:5' shape=(None,) dtype=float64>, 'class': <tf.Tensor 'IteratorGetNext:2' shape=(None,) dtype=string>, 'deck': <tf.Tensor 'IteratorGetNext:3' shape=(None,) dtype=string>, 'embark_town': <tf.Tensor 'IteratorGetNext:4' shape=(None,) dtype=string>, 'alone': <tf.Tensor 'IteratorGetNext:1' shape=(None,) dtype=string>}. Consider rewriting this model with the Functional API.\n"
          ]
        },
        {
          "output_type": "stream",
          "name": "stdout",
          "text": [
            "13/19 [===================>..........] - ETA: 0s - loss: 0.9983 - accuracy: 0.6224 "
          ]
        },
        {
          "output_type": "stream",
          "name": "stderr",
          "text": [
            "WARNING:tensorflow:Layers in a Sequential model should only have a single input tensor. Received: inputs={'sex': <tf.Tensor 'IteratorGetNext:8' shape=(None,) dtype=string>, 'age': <tf.Tensor 'IteratorGetNext:0' shape=(None,) dtype=float64>, 'n_siblings_spouses': <tf.Tensor 'IteratorGetNext:6' shape=(None,) dtype=int64>, 'parch': <tf.Tensor 'IteratorGetNext:7' shape=(None,) dtype=int64>, 'fare': <tf.Tensor 'IteratorGetNext:5' shape=(None,) dtype=float64>, 'class': <tf.Tensor 'IteratorGetNext:2' shape=(None,) dtype=string>, 'deck': <tf.Tensor 'IteratorGetNext:3' shape=(None,) dtype=string>, 'embark_town': <tf.Tensor 'IteratorGetNext:4' shape=(None,) dtype=string>, 'alone': <tf.Tensor 'IteratorGetNext:1' shape=(None,) dtype=string>}. Consider rewriting this model with the Functional API.\n"
          ]
        },
        {
          "output_type": "stream",
          "name": "stdout",
          "text": [
            "\b\b\b\b\b\b\b\b\b\b\b\b\b\b\b\b\b\b\b\b\b\b\b\b\b\b\b\b\b\b\b\b\b\b\b\b\b\b\b\b\b\b\b\b\b\b\b\b\b\b\b\b\b\b\b\b\b\b\b\b\b\b\b\b\b\b\b\b\b\b\b\b\b\b\b\b\b\b\b\b\b\b\r19/19 [==============================] - 3s 29ms/step - loss: 0.9460 - accuracy: 0.6252 - val_loss: 0.6330 - val_accuracy: 0.6899\n",
            "Epoch 2/100\n",
            "19/19 [==============================] - 0s 5ms/step - loss: 0.9116 - accuracy: 0.6619 - val_loss: 0.6890 - val_accuracy: 0.6835\n",
            "Epoch 3/100\n",
            "19/19 [==============================] - 0s 5ms/step - loss: 0.6898 - accuracy: 0.6874 - val_loss: 0.5638 - val_accuracy: 0.7152\n",
            "Epoch 4/100\n",
            "19/19 [==============================] - 0s 5ms/step - loss: 0.6290 - accuracy: 0.7081 - val_loss: 0.5798 - val_accuracy: 0.7278\n",
            "Epoch 5/100\n",
            "19/19 [==============================] - 0s 4ms/step - loss: 0.6394 - accuracy: 0.6778 - val_loss: 0.5362 - val_accuracy: 0.6899\n",
            "Epoch 6/100\n",
            "19/19 [==============================] - 0s 5ms/step - loss: 0.7036 - accuracy: 0.6715 - val_loss: 0.5738 - val_accuracy: 0.7342\n",
            "Epoch 7/100\n",
            "19/19 [==============================] - 0s 5ms/step - loss: 0.5709 - accuracy: 0.7305 - val_loss: 0.5089 - val_accuracy: 0.7532\n",
            "Epoch 8/100\n",
            "19/19 [==============================] - 0s 5ms/step - loss: 0.5160 - accuracy: 0.7241 - val_loss: 0.5064 - val_accuracy: 0.7532\n",
            "Epoch 9/100\n",
            "19/19 [==============================] - 0s 4ms/step - loss: 0.5667 - accuracy: 0.7608 - val_loss: 0.5746 - val_accuracy: 0.7215\n",
            "Epoch 10/100\n",
            "19/19 [==============================] - 0s 5ms/step - loss: 0.5863 - accuracy: 0.7432 - val_loss: 0.6131 - val_accuracy: 0.6646\n",
            "Epoch 11/100\n",
            "19/19 [==============================] - 0s 4ms/step - loss: 0.5932 - accuracy: 0.7289 - val_loss: 0.5168 - val_accuracy: 0.7342\n",
            "Epoch 12/100\n",
            "19/19 [==============================] - 0s 5ms/step - loss: 0.5144 - accuracy: 0.7687 - val_loss: 0.4723 - val_accuracy: 0.7785\n",
            "Epoch 13/100\n",
            "19/19 [==============================] - 0s 5ms/step - loss: 0.5054 - accuracy: 0.7719 - val_loss: 0.4967 - val_accuracy: 0.7089\n",
            "Epoch 14/100\n",
            "19/19 [==============================] - 0s 5ms/step - loss: 0.4926 - accuracy: 0.7895 - val_loss: 0.4743 - val_accuracy: 0.7722\n",
            "Epoch 15/100\n",
            "19/19 [==============================] - 0s 5ms/step - loss: 0.4344 - accuracy: 0.8102 - val_loss: 0.4581 - val_accuracy: 0.7848\n",
            "Epoch 16/100\n",
            "19/19 [==============================] - 0s 5ms/step - loss: 0.4235 - accuracy: 0.8086 - val_loss: 0.4667 - val_accuracy: 0.7722\n",
            "Epoch 17/100\n",
            "19/19 [==============================] - 0s 5ms/step - loss: 0.4312 - accuracy: 0.8166 - val_loss: 0.4537 - val_accuracy: 0.7911\n",
            "Epoch 18/100\n",
            "19/19 [==============================] - 0s 5ms/step - loss: 0.4388 - accuracy: 0.8038 - val_loss: 0.4719 - val_accuracy: 0.7532\n",
            "Epoch 19/100\n",
            "19/19 [==============================] - 0s 4ms/step - loss: 0.4270 - accuracy: 0.7943 - val_loss: 0.4581 - val_accuracy: 0.7848\n",
            "Epoch 20/100\n",
            "19/19 [==============================] - 0s 5ms/step - loss: 0.4165 - accuracy: 0.8230 - val_loss: 0.4526 - val_accuracy: 0.7785\n",
            "Epoch 21/100\n",
            "19/19 [==============================] - 0s 5ms/step - loss: 0.4527 - accuracy: 0.8022 - val_loss: 0.4562 - val_accuracy: 0.7975\n",
            "Epoch 22/100\n",
            "19/19 [==============================] - 0s 5ms/step - loss: 0.4200 - accuracy: 0.8022 - val_loss: 0.4562 - val_accuracy: 0.7722\n",
            "Epoch 23/100\n",
            "19/19 [==============================] - 0s 4ms/step - loss: 0.4092 - accuracy: 0.8214 - val_loss: 0.4547 - val_accuracy: 0.7848\n",
            "Epoch 24/100\n",
            "19/19 [==============================] - 0s 5ms/step - loss: 0.4107 - accuracy: 0.8134 - val_loss: 0.4555 - val_accuracy: 0.7911\n",
            "Epoch 25/100\n",
            "19/19 [==============================] - 0s 5ms/step - loss: 0.4213 - accuracy: 0.8118 - val_loss: 0.4416 - val_accuracy: 0.7848\n",
            "Epoch 26/100\n",
            "19/19 [==============================] - 0s 5ms/step - loss: 0.3969 - accuracy: 0.8150 - val_loss: 0.4663 - val_accuracy: 0.7848\n",
            "Epoch 27/100\n",
            "19/19 [==============================] - 0s 5ms/step - loss: 0.4458 - accuracy: 0.8054 - val_loss: 0.4528 - val_accuracy: 0.7848\n",
            "Epoch 28/100\n",
            "19/19 [==============================] - 0s 4ms/step - loss: 0.4153 - accuracy: 0.8293 - val_loss: 0.4482 - val_accuracy: 0.7848\n",
            "Epoch 29/100\n",
            "19/19 [==============================] - 0s 5ms/step - loss: 0.4084 - accuracy: 0.8166 - val_loss: 0.4448 - val_accuracy: 0.7785\n",
            "Epoch 30/100\n",
            "19/19 [==============================] - 0s 5ms/step - loss: 0.3935 - accuracy: 0.8246 - val_loss: 0.4438 - val_accuracy: 0.8101\n",
            "Epoch 31/100\n",
            "19/19 [==============================] - 0s 5ms/step - loss: 0.3880 - accuracy: 0.8278 - val_loss: 0.4432 - val_accuracy: 0.7848\n",
            "Epoch 32/100\n",
            "19/19 [==============================] - 0s 4ms/step - loss: 0.3907 - accuracy: 0.8309 - val_loss: 0.4825 - val_accuracy: 0.7785\n",
            "Epoch 33/100\n",
            "19/19 [==============================] - 0s 5ms/step - loss: 0.3825 - accuracy: 0.8389 - val_loss: 0.4361 - val_accuracy: 0.7975\n",
            "Epoch 34/100\n",
            "19/19 [==============================] - 0s 5ms/step - loss: 0.4098 - accuracy: 0.8214 - val_loss: 0.4419 - val_accuracy: 0.7911\n",
            "Epoch 35/100\n",
            "19/19 [==============================] - 0s 5ms/step - loss: 0.3731 - accuracy: 0.8341 - val_loss: 0.4817 - val_accuracy: 0.7722\n",
            "Epoch 36/100\n",
            "19/19 [==============================] - 0s 4ms/step - loss: 0.3972 - accuracy: 0.8357 - val_loss: 0.4677 - val_accuracy: 0.7595\n",
            "Epoch 37/100\n",
            "19/19 [==============================] - 0s 5ms/step - loss: 0.3860 - accuracy: 0.8214 - val_loss: 0.4464 - val_accuracy: 0.7975\n",
            "Epoch 38/100\n",
            "19/19 [==============================] - 0s 4ms/step - loss: 0.3847 - accuracy: 0.8182 - val_loss: 0.4407 - val_accuracy: 0.7975\n",
            "Epoch 39/100\n",
            "19/19 [==============================] - 0s 4ms/step - loss: 0.3763 - accuracy: 0.8341 - val_loss: 0.4437 - val_accuracy: 0.7722\n",
            "Epoch 40/100\n",
            "19/19 [==============================] - 0s 4ms/step - loss: 0.3844 - accuracy: 0.8198 - val_loss: 0.4382 - val_accuracy: 0.8101\n",
            "Epoch 41/100\n",
            "19/19 [==============================] - 0s 5ms/step - loss: 0.3746 - accuracy: 0.8373 - val_loss: 0.5200 - val_accuracy: 0.7785\n",
            "Epoch 42/100\n",
            "19/19 [==============================] - 0s 4ms/step - loss: 0.3796 - accuracy: 0.8405 - val_loss: 0.4636 - val_accuracy: 0.7785\n",
            "Epoch 43/100\n",
            "19/19 [==============================] - 0s 5ms/step - loss: 0.3810 - accuracy: 0.8325 - val_loss: 0.4374 - val_accuracy: 0.8038\n",
            "Epoch 44/100\n",
            "19/19 [==============================] - 0s 5ms/step - loss: 0.3807 - accuracy: 0.8357 - val_loss: 0.4643 - val_accuracy: 0.7975\n",
            "Epoch 45/100\n",
            "19/19 [==============================] - 0s 5ms/step - loss: 0.3679 - accuracy: 0.8214 - val_loss: 0.4560 - val_accuracy: 0.7722\n",
            "Epoch 46/100\n",
            "19/19 [==============================] - 0s 5ms/step - loss: 0.3717 - accuracy: 0.8309 - val_loss: 0.4394 - val_accuracy: 0.8038\n",
            "Epoch 47/100\n",
            "19/19 [==============================] - 0s 5ms/step - loss: 0.3787 - accuracy: 0.8341 - val_loss: 0.4464 - val_accuracy: 0.8038\n",
            "Epoch 48/100\n",
            "19/19 [==============================] - 0s 5ms/step - loss: 0.3750 - accuracy: 0.8389 - val_loss: 0.4477 - val_accuracy: 0.7848\n",
            "Epoch 49/100\n",
            "19/19 [==============================] - 0s 4ms/step - loss: 0.3535 - accuracy: 0.8501 - val_loss: 0.4606 - val_accuracy: 0.8038\n",
            "Epoch 50/100\n",
            "19/19 [==============================] - 0s 5ms/step - loss: 0.3665 - accuracy: 0.8389 - val_loss: 0.4596 - val_accuracy: 0.7848\n",
            "Epoch 51/100\n",
            "19/19 [==============================] - 0s 5ms/step - loss: 0.3741 - accuracy: 0.8357 - val_loss: 0.4467 - val_accuracy: 0.7975\n",
            "Epoch 52/100\n",
            "19/19 [==============================] - 0s 4ms/step - loss: 0.3596 - accuracy: 0.8357 - val_loss: 0.4806 - val_accuracy: 0.8038\n",
            "Epoch 53/100\n",
            "19/19 [==============================] - 0s 4ms/step - loss: 0.3696 - accuracy: 0.8421 - val_loss: 0.4749 - val_accuracy: 0.8101\n",
            "Epoch 54/100\n",
            "19/19 [==============================] - 0s 4ms/step - loss: 0.3691 - accuracy: 0.8373 - val_loss: 0.4598 - val_accuracy: 0.7975\n",
            "Epoch 55/100\n",
            "19/19 [==============================] - 0s 4ms/step - loss: 0.3833 - accuracy: 0.8278 - val_loss: 0.4463 - val_accuracy: 0.8038\n",
            "Epoch 56/100\n",
            "19/19 [==============================] - 0s 4ms/step - loss: 0.3799 - accuracy: 0.8389 - val_loss: 0.4492 - val_accuracy: 0.7911\n",
            "Epoch 57/100\n",
            "19/19 [==============================] - 0s 4ms/step - loss: 0.3673 - accuracy: 0.8341 - val_loss: 0.4515 - val_accuracy: 0.7911\n",
            "Epoch 58/100\n",
            "19/19 [==============================] - 0s 5ms/step - loss: 0.3594 - accuracy: 0.8405 - val_loss: 0.4587 - val_accuracy: 0.8038\n",
            "Epoch 59/100\n",
            "19/19 [==============================] - 0s 5ms/step - loss: 0.3564 - accuracy: 0.8357 - val_loss: 0.4374 - val_accuracy: 0.7975\n",
            "Epoch 60/100\n",
            "19/19 [==============================] - 0s 5ms/step - loss: 0.3692 - accuracy: 0.8293 - val_loss: 0.5340 - val_accuracy: 0.7848\n",
            "Epoch 61/100\n",
            "19/19 [==============================] - 0s 7ms/step - loss: 0.3900 - accuracy: 0.8325 - val_loss: 0.5148 - val_accuracy: 0.7785\n",
            "Epoch 62/100\n",
            "19/19 [==============================] - 0s 8ms/step - loss: 0.3677 - accuracy: 0.8325 - val_loss: 0.5160 - val_accuracy: 0.7911\n",
            "Epoch 63/100\n",
            "19/19 [==============================] - 0s 7ms/step - loss: 0.3657 - accuracy: 0.8469 - val_loss: 0.4718 - val_accuracy: 0.8038\n",
            "Epoch 64/100\n",
            "19/19 [==============================] - 0s 6ms/step - loss: 0.3624 - accuracy: 0.8405 - val_loss: 0.4843 - val_accuracy: 0.7848\n",
            "Epoch 65/100\n",
            "19/19 [==============================] - 0s 8ms/step - loss: 0.3663 - accuracy: 0.8453 - val_loss: 0.4781 - val_accuracy: 0.8038\n",
            "Epoch 66/100\n",
            "19/19 [==============================] - 0s 7ms/step - loss: 0.3603 - accuracy: 0.8357 - val_loss: 0.5025 - val_accuracy: 0.7848\n",
            "Epoch 67/100\n",
            "19/19 [==============================] - 0s 9ms/step - loss: 0.3469 - accuracy: 0.8357 - val_loss: 0.4826 - val_accuracy: 0.7975\n",
            "Epoch 68/100\n",
            "19/19 [==============================] - 0s 8ms/step - loss: 0.3562 - accuracy: 0.8405 - val_loss: 0.4605 - val_accuracy: 0.7785\n",
            "Epoch 69/100\n",
            "19/19 [==============================] - 0s 7ms/step - loss: 0.3408 - accuracy: 0.8453 - val_loss: 0.4599 - val_accuracy: 0.7848\n",
            "Epoch 70/100\n",
            "19/19 [==============================] - 0s 8ms/step - loss: 0.3623 - accuracy: 0.8469 - val_loss: 0.4468 - val_accuracy: 0.8038\n",
            "Epoch 71/100\n",
            "19/19 [==============================] - 0s 8ms/step - loss: 0.3671 - accuracy: 0.8453 - val_loss: 0.4550 - val_accuracy: 0.7975\n",
            "Epoch 72/100\n",
            "19/19 [==============================] - 0s 4ms/step - loss: 0.3602 - accuracy: 0.8278 - val_loss: 0.4629 - val_accuracy: 0.7722\n",
            "Epoch 73/100\n",
            "19/19 [==============================] - 0s 4ms/step - loss: 0.3429 - accuracy: 0.8501 - val_loss: 0.4643 - val_accuracy: 0.7911\n",
            "Epoch 74/100\n",
            "19/19 [==============================] - 0s 5ms/step - loss: 0.3533 - accuracy: 0.8565 - val_loss: 0.4452 - val_accuracy: 0.8101\n",
            "Epoch 75/100\n",
            "19/19 [==============================] - 0s 4ms/step - loss: 0.3562 - accuracy: 0.8373 - val_loss: 0.4680 - val_accuracy: 0.7785\n",
            "Epoch 76/100\n",
            "19/19 [==============================] - 0s 5ms/step - loss: 0.3493 - accuracy: 0.8501 - val_loss: 0.4580 - val_accuracy: 0.7848\n",
            "Epoch 77/100\n",
            "19/19 [==============================] - 0s 5ms/step - loss: 0.4033 - accuracy: 0.8278 - val_loss: 0.4616 - val_accuracy: 0.7975\n",
            "Epoch 78/100\n",
            "19/19 [==============================] - 0s 4ms/step - loss: 0.3447 - accuracy: 0.8485 - val_loss: 0.4646 - val_accuracy: 0.7785\n",
            "Epoch 79/100\n",
            "19/19 [==============================] - 0s 4ms/step - loss: 0.3467 - accuracy: 0.8501 - val_loss: 0.4560 - val_accuracy: 0.7975\n",
            "Epoch 80/100\n",
            "19/19 [==============================] - 0s 5ms/step - loss: 0.3442 - accuracy: 0.8549 - val_loss: 0.4925 - val_accuracy: 0.7975\n",
            "Epoch 81/100\n",
            "19/19 [==============================] - 0s 5ms/step - loss: 0.3358 - accuracy: 0.8469 - val_loss: 0.4943 - val_accuracy: 0.8101\n",
            "Epoch 82/100\n",
            "19/19 [==============================] - 0s 4ms/step - loss: 0.3323 - accuracy: 0.8581 - val_loss: 0.4851 - val_accuracy: 0.8038\n",
            "Epoch 83/100\n",
            "19/19 [==============================] - 0s 5ms/step - loss: 0.3229 - accuracy: 0.8581 - val_loss: 0.4742 - val_accuracy: 0.8101\n",
            "Epoch 84/100\n",
            "19/19 [==============================] - 0s 5ms/step - loss: 0.3330 - accuracy: 0.8533 - val_loss: 0.4970 - val_accuracy: 0.7975\n",
            "Epoch 85/100\n",
            "19/19 [==============================] - 0s 5ms/step - loss: 0.3222 - accuracy: 0.8644 - val_loss: 0.4918 - val_accuracy: 0.8038\n",
            "Epoch 86/100\n",
            "19/19 [==============================] - 0s 5ms/step - loss: 0.3383 - accuracy: 0.8565 - val_loss: 0.4884 - val_accuracy: 0.8165\n",
            "Epoch 87/100\n",
            "19/19 [==============================] - 0s 5ms/step - loss: 0.3233 - accuracy: 0.8485 - val_loss: 0.4855 - val_accuracy: 0.8101\n",
            "Epoch 88/100\n",
            "19/19 [==============================] - 0s 5ms/step - loss: 0.3419 - accuracy: 0.8469 - val_loss: 0.4585 - val_accuracy: 0.7848\n",
            "Epoch 89/100\n",
            "19/19 [==============================] - 0s 5ms/step - loss: 0.3350 - accuracy: 0.8469 - val_loss: 0.4680 - val_accuracy: 0.7785\n",
            "Epoch 90/100\n",
            "19/19 [==============================] - 0s 4ms/step - loss: 0.3371 - accuracy: 0.8405 - val_loss: 0.4763 - val_accuracy: 0.7785\n",
            "Epoch 91/100\n",
            "19/19 [==============================] - 0s 5ms/step - loss: 0.3250 - accuracy: 0.8421 - val_loss: 0.4790 - val_accuracy: 0.8101\n",
            "Epoch 92/100\n",
            "19/19 [==============================] - 0s 6ms/step - loss: 0.3188 - accuracy: 0.8612 - val_loss: 0.4688 - val_accuracy: 0.8101\n",
            "Epoch 93/100\n",
            "19/19 [==============================] - 0s 5ms/step - loss: 0.3251 - accuracy: 0.8469 - val_loss: 0.5071 - val_accuracy: 0.8101\n",
            "Epoch 94/100\n",
            "19/19 [==============================] - 0s 5ms/step - loss: 0.3220 - accuracy: 0.8660 - val_loss: 0.4970 - val_accuracy: 0.8228\n",
            "Epoch 95/100\n",
            "19/19 [==============================] - 0s 4ms/step - loss: 0.3246 - accuracy: 0.8581 - val_loss: 0.4693 - val_accuracy: 0.7911\n",
            "Epoch 96/100\n",
            "19/19 [==============================] - 0s 5ms/step - loss: 0.3264 - accuracy: 0.8596 - val_loss: 0.4679 - val_accuracy: 0.7975\n",
            "Epoch 97/100\n",
            "19/19 [==============================] - 0s 4ms/step - loss: 0.3523 - accuracy: 0.8453 - val_loss: 0.4563 - val_accuracy: 0.7848\n",
            "Epoch 98/100\n",
            "19/19 [==============================] - 0s 4ms/step - loss: 0.3353 - accuracy: 0.8421 - val_loss: 0.4640 - val_accuracy: 0.7975\n",
            "Epoch 99/100\n",
            "19/19 [==============================] - 0s 4ms/step - loss: 0.3354 - accuracy: 0.8485 - val_loss: 0.4948 - val_accuracy: 0.8101\n",
            "Epoch 100/100\n",
            "19/19 [==============================] - 0s 5ms/step - loss: 0.3200 - accuracy: 0.8549 - val_loss: 0.4895 - val_accuracy: 0.8101\n"
          ]
        },
        {
          "output_type": "execute_result",
          "data": {
            "text/plain": [
              "<keras.callbacks.History at 0x7a6117ee92d0>"
            ]
          },
          "metadata": {},
          "execution_count": 31
        }
      ]
    },
    {
      "cell_type": "code",
      "source": [],
      "metadata": {
        "id": "kfucKf6IaKEt"
      },
      "execution_count": null,
      "outputs": []
    }
  ]
}