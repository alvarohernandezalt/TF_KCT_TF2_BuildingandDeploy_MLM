{
  "nbformat": 4,
  "nbformat_minor": 0,
  "metadata": {
    "colab": {
      "provenance": []
    },
    "kernelspec": {
      "name": "python3",
      "display_name": "Python 3"
    },
    "language_info": {
      "name": "python"
    }
  },
  "cells": [
    {
      "cell_type": "markdown",
      "source": [
        "## DATA PREPROCESSING\n",
        "\n",
        "These are the most common data that we are going to use in TensorFlow (Deep Learning)\n",
        "\n",
        "* Tables\n",
        "* Images\n",
        "* Text"
      ],
      "metadata": {
        "id": "WEsahsIsgsuD"
      }
    },
    {
      "cell_type": "markdown",
      "source": [
        " ### Preparing Tabular Data for Training\n",
        "\n",
        "It is important to identify which columns are considered categorical. Neural Networks and other models of Machine Learning should prefer numeric inputs (One Hot Encoder)\n",
        "Another aspect to take account of is the potential of interactions among multiple features\n"
      ],
      "metadata": {
        "id": "YmIO3KVfhTo0"
      }
    },
    {
      "cell_type": "markdown",
      "source": [
        "🤬 Sick of trying to use Titanic as an example. <br>\n",
        "🤔 There are lot's of dataset out there ¿? Bigger ones that can teach us better. <br>\n",
        "But I am still almost a newbie so I'll keep track of what books tell us to do"
      ],
      "metadata": {
        "id": "hVFq6H8UkM-a"
      }
    },
    {
      "cell_type": "code",
      "source": [
        "# Loading libraries\n",
        "import functools\n",
        "import numpy as np\n",
        "import tensorflow as tf\n",
        "import pandas as pd\n",
        "from tensorflow import feature_column\n",
        "from tensorflow.keras import layers\n",
        "from sklearn.model_selection import train_test_split"
      ],
      "metadata": {
        "id": "fPlbWyD0kjPA"
      },
      "execution_count": 1,
      "outputs": []
    },
    {
      "cell_type": "code",
      "source": [
        "# Load data from Google's public storage\n",
        "TRAIN_DATA_URL = 'https://storage.googleapis.com/tf-datasets/titanic/train.csv'\n",
        "TEST_DATA_URL = 'https://storage.googleapis.com/tf-datasets/titanic/eval.csv'\n",
        "\n",
        "train_file_path = tf.keras.utils.get_file('train.csv',TRAIN_DATA_URL)\n",
        "test_file_path = tf.keras.utils.get_file('eval.csv',TEST_DATA_URL)\n"
      ],
      "metadata": {
        "id": "1nwnZ0tsqxeS",
        "colab": {
          "base_uri": "https://localhost:8080/"
        },
        "outputId": "d128158d-f807-4c59-e62b-f1779b14c9be"
      },
      "execution_count": 2,
      "outputs": [
        {
          "output_type": "stream",
          "name": "stdout",
          "text": [
            "Downloading data from https://storage.googleapis.com/tf-datasets/titanic/train.csv\n",
            "30874/30874 [==============================] - 0s 0us/step\n",
            "Downloading data from https://storage.googleapis.com/tf-datasets/titanic/eval.csv\n",
            "13049/13049 [==============================] - 0s 1us/step\n"
          ]
        }
      ]
    },
    {
      "cell_type": "code",
      "source": [
        "print(train_file_path)"
      ],
      "metadata": {
        "colab": {
          "base_uri": "https://localhost:8080/"
        },
        "id": "CiyqqRe1r_AV",
        "outputId": "8b8d7669-f6b4-48a3-a6b6-e369d443df1d"
      },
      "execution_count": 3,
      "outputs": [
        {
          "output_type": "stream",
          "name": "stdout",
          "text": [
            "/root/.keras/datasets/train.csv\n"
          ]
        }
      ]
    },
    {
      "cell_type": "markdown",
      "source": [
        "**📑 When datasets are bigger is a best prectice in TensorFlow to convert your table into a straming dataset.** <br>\n",
        "This ensures that memory consumption wil be not affected by data size"
      ],
      "metadata": {
        "id": "fC69auKvtz94"
      }
    },
    {
      "cell_type": "code",
      "source": [
        "train_df = pd.read_csv(train_file_path, header='infer')\n",
        "test_df = pd.read_csv(test_file_path, header='infer')"
      ],
      "metadata": {
        "id": "xMLXJuj2TzmD"
      },
      "execution_count": 4,
      "outputs": []
    },
    {
      "cell_type": "code",
      "source": [
        "train_df"
      ],
      "metadata": {
        "colab": {
          "base_uri": "https://localhost:8080/",
          "height": 424
        },
        "id": "yvltfQmMUrYC",
        "outputId": "efba2ed5-af98-483d-9440-e80609c4ae97"
      },
      "execution_count": 5,
      "outputs": [
        {
          "output_type": "execute_result",
          "data": {
            "text/plain": [
              "     survived     sex   age  n_siblings_spouses  parch     fare   class  \\\n",
              "0           0    male  22.0                   1      0   7.2500   Third   \n",
              "1           1  female  38.0                   1      0  71.2833   First   \n",
              "2           1  female  26.0                   0      0   7.9250   Third   \n",
              "3           1  female  35.0                   1      0  53.1000   First   \n",
              "4           0    male  28.0                   0      0   8.4583   Third   \n",
              "..        ...     ...   ...                 ...    ...      ...     ...   \n",
              "622         0    male  28.0                   0      0  10.5000  Second   \n",
              "623         0    male  25.0                   0      0   7.0500   Third   \n",
              "624         1  female  19.0                   0      0  30.0000   First   \n",
              "625         0  female  28.0                   1      2  23.4500   Third   \n",
              "626         0    male  32.0                   0      0   7.7500   Third   \n",
              "\n",
              "        deck  embark_town alone  \n",
              "0    unknown  Southampton     n  \n",
              "1          C    Cherbourg     n  \n",
              "2    unknown  Southampton     y  \n",
              "3          C  Southampton     n  \n",
              "4    unknown   Queenstown     y  \n",
              "..       ...          ...   ...  \n",
              "622  unknown  Southampton     y  \n",
              "623  unknown  Southampton     y  \n",
              "624        B  Southampton     y  \n",
              "625  unknown  Southampton     n  \n",
              "626  unknown   Queenstown     y  \n",
              "\n",
              "[627 rows x 10 columns]"
            ],
            "text/html": [
              "\n",
              "  <div id=\"df-62774026-9aa3-4408-900c-002042d57b3a\" class=\"colab-df-container\">\n",
              "    <div>\n",
              "<style scoped>\n",
              "    .dataframe tbody tr th:only-of-type {\n",
              "        vertical-align: middle;\n",
              "    }\n",
              "\n",
              "    .dataframe tbody tr th {\n",
              "        vertical-align: top;\n",
              "    }\n",
              "\n",
              "    .dataframe thead th {\n",
              "        text-align: right;\n",
              "    }\n",
              "</style>\n",
              "<table border=\"1\" class=\"dataframe\">\n",
              "  <thead>\n",
              "    <tr style=\"text-align: right;\">\n",
              "      <th></th>\n",
              "      <th>survived</th>\n",
              "      <th>sex</th>\n",
              "      <th>age</th>\n",
              "      <th>n_siblings_spouses</th>\n",
              "      <th>parch</th>\n",
              "      <th>fare</th>\n",
              "      <th>class</th>\n",
              "      <th>deck</th>\n",
              "      <th>embark_town</th>\n",
              "      <th>alone</th>\n",
              "    </tr>\n",
              "  </thead>\n",
              "  <tbody>\n",
              "    <tr>\n",
              "      <th>0</th>\n",
              "      <td>0</td>\n",
              "      <td>male</td>\n",
              "      <td>22.0</td>\n",
              "      <td>1</td>\n",
              "      <td>0</td>\n",
              "      <td>7.2500</td>\n",
              "      <td>Third</td>\n",
              "      <td>unknown</td>\n",
              "      <td>Southampton</td>\n",
              "      <td>n</td>\n",
              "    </tr>\n",
              "    <tr>\n",
              "      <th>1</th>\n",
              "      <td>1</td>\n",
              "      <td>female</td>\n",
              "      <td>38.0</td>\n",
              "      <td>1</td>\n",
              "      <td>0</td>\n",
              "      <td>71.2833</td>\n",
              "      <td>First</td>\n",
              "      <td>C</td>\n",
              "      <td>Cherbourg</td>\n",
              "      <td>n</td>\n",
              "    </tr>\n",
              "    <tr>\n",
              "      <th>2</th>\n",
              "      <td>1</td>\n",
              "      <td>female</td>\n",
              "      <td>26.0</td>\n",
              "      <td>0</td>\n",
              "      <td>0</td>\n",
              "      <td>7.9250</td>\n",
              "      <td>Third</td>\n",
              "      <td>unknown</td>\n",
              "      <td>Southampton</td>\n",
              "      <td>y</td>\n",
              "    </tr>\n",
              "    <tr>\n",
              "      <th>3</th>\n",
              "      <td>1</td>\n",
              "      <td>female</td>\n",
              "      <td>35.0</td>\n",
              "      <td>1</td>\n",
              "      <td>0</td>\n",
              "      <td>53.1000</td>\n",
              "      <td>First</td>\n",
              "      <td>C</td>\n",
              "      <td>Southampton</td>\n",
              "      <td>n</td>\n",
              "    </tr>\n",
              "    <tr>\n",
              "      <th>4</th>\n",
              "      <td>0</td>\n",
              "      <td>male</td>\n",
              "      <td>28.0</td>\n",
              "      <td>0</td>\n",
              "      <td>0</td>\n",
              "      <td>8.4583</td>\n",
              "      <td>Third</td>\n",
              "      <td>unknown</td>\n",
              "      <td>Queenstown</td>\n",
              "      <td>y</td>\n",
              "    </tr>\n",
              "    <tr>\n",
              "      <th>...</th>\n",
              "      <td>...</td>\n",
              "      <td>...</td>\n",
              "      <td>...</td>\n",
              "      <td>...</td>\n",
              "      <td>...</td>\n",
              "      <td>...</td>\n",
              "      <td>...</td>\n",
              "      <td>...</td>\n",
              "      <td>...</td>\n",
              "      <td>...</td>\n",
              "    </tr>\n",
              "    <tr>\n",
              "      <th>622</th>\n",
              "      <td>0</td>\n",
              "      <td>male</td>\n",
              "      <td>28.0</td>\n",
              "      <td>0</td>\n",
              "      <td>0</td>\n",
              "      <td>10.5000</td>\n",
              "      <td>Second</td>\n",
              "      <td>unknown</td>\n",
              "      <td>Southampton</td>\n",
              "      <td>y</td>\n",
              "    </tr>\n",
              "    <tr>\n",
              "      <th>623</th>\n",
              "      <td>0</td>\n",
              "      <td>male</td>\n",
              "      <td>25.0</td>\n",
              "      <td>0</td>\n",
              "      <td>0</td>\n",
              "      <td>7.0500</td>\n",
              "      <td>Third</td>\n",
              "      <td>unknown</td>\n",
              "      <td>Southampton</td>\n",
              "      <td>y</td>\n",
              "    </tr>\n",
              "    <tr>\n",
              "      <th>624</th>\n",
              "      <td>1</td>\n",
              "      <td>female</td>\n",
              "      <td>19.0</td>\n",
              "      <td>0</td>\n",
              "      <td>0</td>\n",
              "      <td>30.0000</td>\n",
              "      <td>First</td>\n",
              "      <td>B</td>\n",
              "      <td>Southampton</td>\n",
              "      <td>y</td>\n",
              "    </tr>\n",
              "    <tr>\n",
              "      <th>625</th>\n",
              "      <td>0</td>\n",
              "      <td>female</td>\n",
              "      <td>28.0</td>\n",
              "      <td>1</td>\n",
              "      <td>2</td>\n",
              "      <td>23.4500</td>\n",
              "      <td>Third</td>\n",
              "      <td>unknown</td>\n",
              "      <td>Southampton</td>\n",
              "      <td>n</td>\n",
              "    </tr>\n",
              "    <tr>\n",
              "      <th>626</th>\n",
              "      <td>0</td>\n",
              "      <td>male</td>\n",
              "      <td>32.0</td>\n",
              "      <td>0</td>\n",
              "      <td>0</td>\n",
              "      <td>7.7500</td>\n",
              "      <td>Third</td>\n",
              "      <td>unknown</td>\n",
              "      <td>Queenstown</td>\n",
              "      <td>y</td>\n",
              "    </tr>\n",
              "  </tbody>\n",
              "</table>\n",
              "<p>627 rows × 10 columns</p>\n",
              "</div>\n",
              "    <div class=\"colab-df-buttons\">\n",
              "\n",
              "  <div class=\"colab-df-container\">\n",
              "    <button class=\"colab-df-convert\" onclick=\"convertToInteractive('df-62774026-9aa3-4408-900c-002042d57b3a')\"\n",
              "            title=\"Convert this dataframe to an interactive table.\"\n",
              "            style=\"display:none;\">\n",
              "\n",
              "  <svg xmlns=\"http://www.w3.org/2000/svg\" height=\"24px\" viewBox=\"0 -960 960 960\">\n",
              "    <path d=\"M120-120v-720h720v720H120Zm60-500h600v-160H180v160Zm220 220h160v-160H400v160Zm0 220h160v-160H400v160ZM180-400h160v-160H180v160Zm440 0h160v-160H620v160ZM180-180h160v-160H180v160Zm440 0h160v-160H620v160Z\"/>\n",
              "  </svg>\n",
              "    </button>\n",
              "\n",
              "  <style>\n",
              "    .colab-df-container {\n",
              "      display:flex;\n",
              "      gap: 12px;\n",
              "    }\n",
              "\n",
              "    .colab-df-convert {\n",
              "      background-color: #E8F0FE;\n",
              "      border: none;\n",
              "      border-radius: 50%;\n",
              "      cursor: pointer;\n",
              "      display: none;\n",
              "      fill: #1967D2;\n",
              "      height: 32px;\n",
              "      padding: 0 0 0 0;\n",
              "      width: 32px;\n",
              "    }\n",
              "\n",
              "    .colab-df-convert:hover {\n",
              "      background-color: #E2EBFA;\n",
              "      box-shadow: 0px 1px 2px rgba(60, 64, 67, 0.3), 0px 1px 3px 1px rgba(60, 64, 67, 0.15);\n",
              "      fill: #174EA6;\n",
              "    }\n",
              "\n",
              "    .colab-df-buttons div {\n",
              "      margin-bottom: 4px;\n",
              "    }\n",
              "\n",
              "    [theme=dark] .colab-df-convert {\n",
              "      background-color: #3B4455;\n",
              "      fill: #D2E3FC;\n",
              "    }\n",
              "\n",
              "    [theme=dark] .colab-df-convert:hover {\n",
              "      background-color: #434B5C;\n",
              "      box-shadow: 0px 1px 3px 1px rgba(0, 0, 0, 0.15);\n",
              "      filter: drop-shadow(0px 1px 2px rgba(0, 0, 0, 0.3));\n",
              "      fill: #FFFFFF;\n",
              "    }\n",
              "  </style>\n",
              "\n",
              "    <script>\n",
              "      const buttonEl =\n",
              "        document.querySelector('#df-62774026-9aa3-4408-900c-002042d57b3a button.colab-df-convert');\n",
              "      buttonEl.style.display =\n",
              "        google.colab.kernel.accessAllowed ? 'block' : 'none';\n",
              "\n",
              "      async function convertToInteractive(key) {\n",
              "        const element = document.querySelector('#df-62774026-9aa3-4408-900c-002042d57b3a');\n",
              "        const dataTable =\n",
              "          await google.colab.kernel.invokeFunction('convertToInteractive',\n",
              "                                                    [key], {});\n",
              "        if (!dataTable) return;\n",
              "\n",
              "        const docLinkHtml = 'Like what you see? Visit the ' +\n",
              "          '<a target=\"_blank\" href=https://colab.research.google.com/notebooks/data_table.ipynb>data table notebook</a>'\n",
              "          + ' to learn more about interactive tables.';\n",
              "        element.innerHTML = '';\n",
              "        dataTable['output_type'] = 'display_data';\n",
              "        await google.colab.output.renderOutput(dataTable, element);\n",
              "        const docLink = document.createElement('div');\n",
              "        docLink.innerHTML = docLinkHtml;\n",
              "        element.appendChild(docLink);\n",
              "      }\n",
              "    </script>\n",
              "  </div>\n",
              "\n",
              "\n",
              "<div id=\"df-2b3979fe-6a35-4436-860b-cdb79fa571eb\">\n",
              "  <button class=\"colab-df-quickchart\" onclick=\"quickchart('df-2b3979fe-6a35-4436-860b-cdb79fa571eb')\"\n",
              "            title=\"Suggest charts.\"\n",
              "            style=\"display:none;\">\n",
              "\n",
              "<svg xmlns=\"http://www.w3.org/2000/svg\" height=\"24px\"viewBox=\"0 0 24 24\"\n",
              "     width=\"24px\">\n",
              "    <g>\n",
              "        <path d=\"M19 3H5c-1.1 0-2 .9-2 2v14c0 1.1.9 2 2 2h14c1.1 0 2-.9 2-2V5c0-1.1-.9-2-2-2zM9 17H7v-7h2v7zm4 0h-2V7h2v10zm4 0h-2v-4h2v4z\"/>\n",
              "    </g>\n",
              "</svg>\n",
              "  </button>\n",
              "\n",
              "<style>\n",
              "  .colab-df-quickchart {\n",
              "      --bg-color: #E8F0FE;\n",
              "      --fill-color: #1967D2;\n",
              "      --hover-bg-color: #E2EBFA;\n",
              "      --hover-fill-color: #174EA6;\n",
              "      --disabled-fill-color: #AAA;\n",
              "      --disabled-bg-color: #DDD;\n",
              "  }\n",
              "\n",
              "  [theme=dark] .colab-df-quickchart {\n",
              "      --bg-color: #3B4455;\n",
              "      --fill-color: #D2E3FC;\n",
              "      --hover-bg-color: #434B5C;\n",
              "      --hover-fill-color: #FFFFFF;\n",
              "      --disabled-bg-color: #3B4455;\n",
              "      --disabled-fill-color: #666;\n",
              "  }\n",
              "\n",
              "  .colab-df-quickchart {\n",
              "    background-color: var(--bg-color);\n",
              "    border: none;\n",
              "    border-radius: 50%;\n",
              "    cursor: pointer;\n",
              "    display: none;\n",
              "    fill: var(--fill-color);\n",
              "    height: 32px;\n",
              "    padding: 0;\n",
              "    width: 32px;\n",
              "  }\n",
              "\n",
              "  .colab-df-quickchart:hover {\n",
              "    background-color: var(--hover-bg-color);\n",
              "    box-shadow: 0 1px 2px rgba(60, 64, 67, 0.3), 0 1px 3px 1px rgba(60, 64, 67, 0.15);\n",
              "    fill: var(--button-hover-fill-color);\n",
              "  }\n",
              "\n",
              "  .colab-df-quickchart-complete:disabled,\n",
              "  .colab-df-quickchart-complete:disabled:hover {\n",
              "    background-color: var(--disabled-bg-color);\n",
              "    fill: var(--disabled-fill-color);\n",
              "    box-shadow: none;\n",
              "  }\n",
              "\n",
              "  .colab-df-spinner {\n",
              "    border: 2px solid var(--fill-color);\n",
              "    border-color: transparent;\n",
              "    border-bottom-color: var(--fill-color);\n",
              "    animation:\n",
              "      spin 1s steps(1) infinite;\n",
              "  }\n",
              "\n",
              "  @keyframes spin {\n",
              "    0% {\n",
              "      border-color: transparent;\n",
              "      border-bottom-color: var(--fill-color);\n",
              "      border-left-color: var(--fill-color);\n",
              "    }\n",
              "    20% {\n",
              "      border-color: transparent;\n",
              "      border-left-color: var(--fill-color);\n",
              "      border-top-color: var(--fill-color);\n",
              "    }\n",
              "    30% {\n",
              "      border-color: transparent;\n",
              "      border-left-color: var(--fill-color);\n",
              "      border-top-color: var(--fill-color);\n",
              "      border-right-color: var(--fill-color);\n",
              "    }\n",
              "    40% {\n",
              "      border-color: transparent;\n",
              "      border-right-color: var(--fill-color);\n",
              "      border-top-color: var(--fill-color);\n",
              "    }\n",
              "    60% {\n",
              "      border-color: transparent;\n",
              "      border-right-color: var(--fill-color);\n",
              "    }\n",
              "    80% {\n",
              "      border-color: transparent;\n",
              "      border-right-color: var(--fill-color);\n",
              "      border-bottom-color: var(--fill-color);\n",
              "    }\n",
              "    90% {\n",
              "      border-color: transparent;\n",
              "      border-bottom-color: var(--fill-color);\n",
              "    }\n",
              "  }\n",
              "</style>\n",
              "\n",
              "  <script>\n",
              "    async function quickchart(key) {\n",
              "      const quickchartButtonEl =\n",
              "        document.querySelector('#' + key + ' button');\n",
              "      quickchartButtonEl.disabled = true;  // To prevent multiple clicks.\n",
              "      quickchartButtonEl.classList.add('colab-df-spinner');\n",
              "      try {\n",
              "        const charts = await google.colab.kernel.invokeFunction(\n",
              "            'suggestCharts', [key], {});\n",
              "      } catch (error) {\n",
              "        console.error('Error during call to suggestCharts:', error);\n",
              "      }\n",
              "      quickchartButtonEl.classList.remove('colab-df-spinner');\n",
              "      quickchartButtonEl.classList.add('colab-df-quickchart-complete');\n",
              "    }\n",
              "    (() => {\n",
              "      let quickchartButtonEl =\n",
              "        document.querySelector('#df-2b3979fe-6a35-4436-860b-cdb79fa571eb button');\n",
              "      quickchartButtonEl.style.display =\n",
              "        google.colab.kernel.accessAllowed ? 'block' : 'none';\n",
              "    })();\n",
              "  </script>\n",
              "</div>\n",
              "    </div>\n",
              "  </div>\n"
            ]
          },
          "metadata": {},
          "execution_count": 5
        }
      ]
    },
    {
      "cell_type": "code",
      "source": [
        "# We can, with TensorFlow, set the target, the column for prediction, the label\n",
        "\n",
        "LABEL_COLUMN = 'survived'\n",
        "LABELS = [0,1]\n",
        "\n",
        "train_ds = tf.data.experimental.make_csv_dataset(\n",
        "    train_file_path,\n",
        "    batch_size=3,\n",
        "    label_name=LABEL_COLUMN,\n",
        "    na_value='?',\n",
        "    num_epochs=1)\n",
        "train_ds = train_ds.ignore_errors()\n",
        "\n",
        "test_ds = tf.data.experimental.make_csv_dataset(\n",
        "    test_file_path,\n",
        "    batch_size=3,\n",
        "    label_name=LABEL_COLUMN,\n",
        "    na_value='?',\n",
        "    num_epochs=1)\n",
        "test_ds = test_ds.ignore_errors()\n"
      ],
      "metadata": {
        "id": "nLnu00Ags-M4"
      },
      "execution_count": 6,
      "outputs": []
    },
    {
      "cell_type": "code",
      "source": [
        "# Inspect the data\n",
        "for batch, label in train_ds.take(1):\n",
        "  print(label)\n",
        "  for key, value in batch.items():\n",
        "    print('{}: {}'.format(key,value.numpy()))"
      ],
      "metadata": {
        "id": "qqnamcz3xVxX",
        "colab": {
          "base_uri": "https://localhost:8080/"
        },
        "outputId": "9cd0e5ee-88bf-46ad-8a8f-44e918e6098f"
      },
      "execution_count": 7,
      "outputs": [
        {
          "output_type": "stream",
          "name": "stdout",
          "text": [
            "tf.Tensor([0 1 1], shape=(3,), dtype=int32)\n",
            "sex: [b'male' b'female' b'female']\n",
            "age: [35. 21. 42.]\n",
            "n_siblings_spouses: [0 0 0]\n",
            "parch: [0 0 0]\n",
            "fare: [ 10.5    10.5   227.525]\n",
            "class: [b'Second' b'Second' b'First']\n",
            "deck: [b'unknown' b'unknown' b'unknown']\n",
            "embark_town: [b'Southampton' b'Southampton' b'Cherbourg']\n",
            "alone: [b'y' b'y' b'y']\n"
          ]
        }
      ]
    },
    {
      "cell_type": "markdown",
      "source": [
        "#### Major steps for training a paradigm to consume your training dataset:\n",
        "\n",
        "* Designate columns by features type\n",
        "* Decide wether or not to embed or cross columns\n",
        "* Choose the columns of interest, possibly as an experiment\n",
        "* Create a 'feature layer' for consumption by the training paradigm"
      ],
      "metadata": {
        "id": "bWHMUnDUy0Z7"
      }
    },
    {
      "cell_type": "markdown",
      "source": [
        "##### Features types\n",
        "Four numeric columns: 'age', 'n_siblings_spouses', 'parch', 'fares' <br>\n",
        "Five categorical columns: 'sex','class','deck', 'embark_town', 'alone'"
      ],
      "metadata": {
        "id": "szkE280j2DYy"
      }
    },
    {
      "cell_type": "code",
      "source": [
        "feature_columns = []\n",
        "\n",
        "# numeric cols\n",
        "for header in ['age', 'n_siblings_spouses', 'parch', 'fare']:\n",
        "  feature_columns.append(layers.Input(shape=(1,), name=header))\n",
        "\n",
        "# other feature columns (categorical, etc.) could be added here"
      ],
      "metadata": {
        "id": "SaHXUhsL2sCp"
      },
      "execution_count": 8,
      "outputs": []
    },
    {
      "cell_type": "code",
      "source": [
        "train_df.describe()"
      ],
      "metadata": {
        "colab": {
          "base_uri": "https://localhost:8080/",
          "height": 300
        },
        "id": "yFgvK8R-3mAg",
        "outputId": "24be71c0-bd63-4769-a3fa-c18e8902810e"
      },
      "execution_count": 9,
      "outputs": [
        {
          "output_type": "execute_result",
          "data": {
            "text/plain": [
              "         survived         age  n_siblings_spouses       parch        fare\n",
              "count  627.000000  627.000000          627.000000  627.000000  627.000000\n",
              "mean     0.387560   29.631308            0.545455    0.379585   34.385399\n",
              "std      0.487582   12.511818            1.151090    0.792999   54.597730\n",
              "min      0.000000    0.750000            0.000000    0.000000    0.000000\n",
              "25%      0.000000   23.000000            0.000000    0.000000    7.895800\n",
              "50%      0.000000   28.000000            0.000000    0.000000   15.045800\n",
              "75%      1.000000   35.000000            1.000000    0.000000   31.387500\n",
              "max      1.000000   80.000000            8.000000    5.000000  512.329200"
            ],
            "text/html": [
              "\n",
              "  <div id=\"df-adcb804a-02b8-4a2b-9b02-c9b768db706b\" class=\"colab-df-container\">\n",
              "    <div>\n",
              "<style scoped>\n",
              "    .dataframe tbody tr th:only-of-type {\n",
              "        vertical-align: middle;\n",
              "    }\n",
              "\n",
              "    .dataframe tbody tr th {\n",
              "        vertical-align: top;\n",
              "    }\n",
              "\n",
              "    .dataframe thead th {\n",
              "        text-align: right;\n",
              "    }\n",
              "</style>\n",
              "<table border=\"1\" class=\"dataframe\">\n",
              "  <thead>\n",
              "    <tr style=\"text-align: right;\">\n",
              "      <th></th>\n",
              "      <th>survived</th>\n",
              "      <th>age</th>\n",
              "      <th>n_siblings_spouses</th>\n",
              "      <th>parch</th>\n",
              "      <th>fare</th>\n",
              "    </tr>\n",
              "  </thead>\n",
              "  <tbody>\n",
              "    <tr>\n",
              "      <th>count</th>\n",
              "      <td>627.000000</td>\n",
              "      <td>627.000000</td>\n",
              "      <td>627.000000</td>\n",
              "      <td>627.000000</td>\n",
              "      <td>627.000000</td>\n",
              "    </tr>\n",
              "    <tr>\n",
              "      <th>mean</th>\n",
              "      <td>0.387560</td>\n",
              "      <td>29.631308</td>\n",
              "      <td>0.545455</td>\n",
              "      <td>0.379585</td>\n",
              "      <td>34.385399</td>\n",
              "    </tr>\n",
              "    <tr>\n",
              "      <th>std</th>\n",
              "      <td>0.487582</td>\n",
              "      <td>12.511818</td>\n",
              "      <td>1.151090</td>\n",
              "      <td>0.792999</td>\n",
              "      <td>54.597730</td>\n",
              "    </tr>\n",
              "    <tr>\n",
              "      <th>min</th>\n",
              "      <td>0.000000</td>\n",
              "      <td>0.750000</td>\n",
              "      <td>0.000000</td>\n",
              "      <td>0.000000</td>\n",
              "      <td>0.000000</td>\n",
              "    </tr>\n",
              "    <tr>\n",
              "      <th>25%</th>\n",
              "      <td>0.000000</td>\n",
              "      <td>23.000000</td>\n",
              "      <td>0.000000</td>\n",
              "      <td>0.000000</td>\n",
              "      <td>7.895800</td>\n",
              "    </tr>\n",
              "    <tr>\n",
              "      <th>50%</th>\n",
              "      <td>0.000000</td>\n",
              "      <td>28.000000</td>\n",
              "      <td>0.000000</td>\n",
              "      <td>0.000000</td>\n",
              "      <td>15.045800</td>\n",
              "    </tr>\n",
              "    <tr>\n",
              "      <th>75%</th>\n",
              "      <td>1.000000</td>\n",
              "      <td>35.000000</td>\n",
              "      <td>1.000000</td>\n",
              "      <td>0.000000</td>\n",
              "      <td>31.387500</td>\n",
              "    </tr>\n",
              "    <tr>\n",
              "      <th>max</th>\n",
              "      <td>1.000000</td>\n",
              "      <td>80.000000</td>\n",
              "      <td>8.000000</td>\n",
              "      <td>5.000000</td>\n",
              "      <td>512.329200</td>\n",
              "    </tr>\n",
              "  </tbody>\n",
              "</table>\n",
              "</div>\n",
              "    <div class=\"colab-df-buttons\">\n",
              "\n",
              "  <div class=\"colab-df-container\">\n",
              "    <button class=\"colab-df-convert\" onclick=\"convertToInteractive('df-adcb804a-02b8-4a2b-9b02-c9b768db706b')\"\n",
              "            title=\"Convert this dataframe to an interactive table.\"\n",
              "            style=\"display:none;\">\n",
              "\n",
              "  <svg xmlns=\"http://www.w3.org/2000/svg\" height=\"24px\" viewBox=\"0 -960 960 960\">\n",
              "    <path d=\"M120-120v-720h720v720H120Zm60-500h600v-160H180v160Zm220 220h160v-160H400v160Zm0 220h160v-160H400v160ZM180-400h160v-160H180v160Zm440 0h160v-160H620v160ZM180-180h160v-160H180v160Zm440 0h160v-160H620v160Z\"/>\n",
              "  </svg>\n",
              "    </button>\n",
              "\n",
              "  <style>\n",
              "    .colab-df-container {\n",
              "      display:flex;\n",
              "      gap: 12px;\n",
              "    }\n",
              "\n",
              "    .colab-df-convert {\n",
              "      background-color: #E8F0FE;\n",
              "      border: none;\n",
              "      border-radius: 50%;\n",
              "      cursor: pointer;\n",
              "      display: none;\n",
              "      fill: #1967D2;\n",
              "      height: 32px;\n",
              "      padding: 0 0 0 0;\n",
              "      width: 32px;\n",
              "    }\n",
              "\n",
              "    .colab-df-convert:hover {\n",
              "      background-color: #E2EBFA;\n",
              "      box-shadow: 0px 1px 2px rgba(60, 64, 67, 0.3), 0px 1px 3px 1px rgba(60, 64, 67, 0.15);\n",
              "      fill: #174EA6;\n",
              "    }\n",
              "\n",
              "    .colab-df-buttons div {\n",
              "      margin-bottom: 4px;\n",
              "    }\n",
              "\n",
              "    [theme=dark] .colab-df-convert {\n",
              "      background-color: #3B4455;\n",
              "      fill: #D2E3FC;\n",
              "    }\n",
              "\n",
              "    [theme=dark] .colab-df-convert:hover {\n",
              "      background-color: #434B5C;\n",
              "      box-shadow: 0px 1px 3px 1px rgba(0, 0, 0, 0.15);\n",
              "      filter: drop-shadow(0px 1px 2px rgba(0, 0, 0, 0.3));\n",
              "      fill: #FFFFFF;\n",
              "    }\n",
              "  </style>\n",
              "\n",
              "    <script>\n",
              "      const buttonEl =\n",
              "        document.querySelector('#df-adcb804a-02b8-4a2b-9b02-c9b768db706b button.colab-df-convert');\n",
              "      buttonEl.style.display =\n",
              "        google.colab.kernel.accessAllowed ? 'block' : 'none';\n",
              "\n",
              "      async function convertToInteractive(key) {\n",
              "        const element = document.querySelector('#df-adcb804a-02b8-4a2b-9b02-c9b768db706b');\n",
              "        const dataTable =\n",
              "          await google.colab.kernel.invokeFunction('convertToInteractive',\n",
              "                                                    [key], {});\n",
              "        if (!dataTable) return;\n",
              "\n",
              "        const docLinkHtml = 'Like what you see? Visit the ' +\n",
              "          '<a target=\"_blank\" href=https://colab.research.google.com/notebooks/data_table.ipynb>data table notebook</a>'\n",
              "          + ' to learn more about interactive tables.';\n",
              "        element.innerHTML = '';\n",
              "        dataTable['output_type'] = 'display_data';\n",
              "        await google.colab.output.renderOutput(dataTable, element);\n",
              "        const docLink = document.createElement('div');\n",
              "        docLink.innerHTML = docLinkHtml;\n",
              "        element.appendChild(docLink);\n",
              "      }\n",
              "    </script>\n",
              "  </div>\n",
              "\n",
              "\n",
              "<div id=\"df-bf150dd6-0a35-43d8-a6f0-402b9d1c89e4\">\n",
              "  <button class=\"colab-df-quickchart\" onclick=\"quickchart('df-bf150dd6-0a35-43d8-a6f0-402b9d1c89e4')\"\n",
              "            title=\"Suggest charts.\"\n",
              "            style=\"display:none;\">\n",
              "\n",
              "<svg xmlns=\"http://www.w3.org/2000/svg\" height=\"24px\"viewBox=\"0 0 24 24\"\n",
              "     width=\"24px\">\n",
              "    <g>\n",
              "        <path d=\"M19 3H5c-1.1 0-2 .9-2 2v14c0 1.1.9 2 2 2h14c1.1 0 2-.9 2-2V5c0-1.1-.9-2-2-2zM9 17H7v-7h2v7zm4 0h-2V7h2v10zm4 0h-2v-4h2v4z\"/>\n",
              "    </g>\n",
              "</svg>\n",
              "  </button>\n",
              "\n",
              "<style>\n",
              "  .colab-df-quickchart {\n",
              "      --bg-color: #E8F0FE;\n",
              "      --fill-color: #1967D2;\n",
              "      --hover-bg-color: #E2EBFA;\n",
              "      --hover-fill-color: #174EA6;\n",
              "      --disabled-fill-color: #AAA;\n",
              "      --disabled-bg-color: #DDD;\n",
              "  }\n",
              "\n",
              "  [theme=dark] .colab-df-quickchart {\n",
              "      --bg-color: #3B4455;\n",
              "      --fill-color: #D2E3FC;\n",
              "      --hover-bg-color: #434B5C;\n",
              "      --hover-fill-color: #FFFFFF;\n",
              "      --disabled-bg-color: #3B4455;\n",
              "      --disabled-fill-color: #666;\n",
              "  }\n",
              "\n",
              "  .colab-df-quickchart {\n",
              "    background-color: var(--bg-color);\n",
              "    border: none;\n",
              "    border-radius: 50%;\n",
              "    cursor: pointer;\n",
              "    display: none;\n",
              "    fill: var(--fill-color);\n",
              "    height: 32px;\n",
              "    padding: 0;\n",
              "    width: 32px;\n",
              "  }\n",
              "\n",
              "  .colab-df-quickchart:hover {\n",
              "    background-color: var(--hover-bg-color);\n",
              "    box-shadow: 0 1px 2px rgba(60, 64, 67, 0.3), 0 1px 3px 1px rgba(60, 64, 67, 0.15);\n",
              "    fill: var(--button-hover-fill-color);\n",
              "  }\n",
              "\n",
              "  .colab-df-quickchart-complete:disabled,\n",
              "  .colab-df-quickchart-complete:disabled:hover {\n",
              "    background-color: var(--disabled-bg-color);\n",
              "    fill: var(--disabled-fill-color);\n",
              "    box-shadow: none;\n",
              "  }\n",
              "\n",
              "  .colab-df-spinner {\n",
              "    border: 2px solid var(--fill-color);\n",
              "    border-color: transparent;\n",
              "    border-bottom-color: var(--fill-color);\n",
              "    animation:\n",
              "      spin 1s steps(1) infinite;\n",
              "  }\n",
              "\n",
              "  @keyframes spin {\n",
              "    0% {\n",
              "      border-color: transparent;\n",
              "      border-bottom-color: var(--fill-color);\n",
              "      border-left-color: var(--fill-color);\n",
              "    }\n",
              "    20% {\n",
              "      border-color: transparent;\n",
              "      border-left-color: var(--fill-color);\n",
              "      border-top-color: var(--fill-color);\n",
              "    }\n",
              "    30% {\n",
              "      border-color: transparent;\n",
              "      border-left-color: var(--fill-color);\n",
              "      border-top-color: var(--fill-color);\n",
              "      border-right-color: var(--fill-color);\n",
              "    }\n",
              "    40% {\n",
              "      border-color: transparent;\n",
              "      border-right-color: var(--fill-color);\n",
              "      border-top-color: var(--fill-color);\n",
              "    }\n",
              "    60% {\n",
              "      border-color: transparent;\n",
              "      border-right-color: var(--fill-color);\n",
              "    }\n",
              "    80% {\n",
              "      border-color: transparent;\n",
              "      border-right-color: var(--fill-color);\n",
              "      border-bottom-color: var(--fill-color);\n",
              "    }\n",
              "    90% {\n",
              "      border-color: transparent;\n",
              "      border-bottom-color: var(--fill-color);\n",
              "    }\n",
              "  }\n",
              "</style>\n",
              "\n",
              "  <script>\n",
              "    async function quickchart(key) {\n",
              "      const quickchartButtonEl =\n",
              "        document.querySelector('#' + key + ' button');\n",
              "      quickchartButtonEl.disabled = true;  // To prevent multiple clicks.\n",
              "      quickchartButtonEl.classList.add('colab-df-spinner');\n",
              "      try {\n",
              "        const charts = await google.colab.kernel.invokeFunction(\n",
              "            'suggestCharts', [key], {});\n",
              "      } catch (error) {\n",
              "        console.error('Error during call to suggestCharts:', error);\n",
              "      }\n",
              "      quickchartButtonEl.classList.remove('colab-df-spinner');\n",
              "      quickchartButtonEl.classList.add('colab-df-quickchart-complete');\n",
              "    }\n",
              "    (() => {\n",
              "      let quickchartButtonEl =\n",
              "        document.querySelector('#df-bf150dd6-0a35-43d8-a6f0-402b9d1c89e4 button');\n",
              "      quickchartButtonEl.style.display =\n",
              "        google.colab.kernel.accessAllowed ? 'block' : 'none';\n",
              "    })();\n",
              "  </script>\n",
              "</div>\n",
              "    </div>\n",
              "  </div>\n"
            ]
          },
          "metadata": {},
          "execution_count": 9
        }
      ]
    },
    {
      "cell_type": "code",
      "source": [
        "age = feature_column.numeric_column('age')\n",
        "age_input = layers.Input(shape=(1,), name='age')\n",
        "age_buckets = feature_column.bucketized_column(age, boundaries=[23, 28, 35])"
      ],
      "metadata": {
        "colab": {
          "base_uri": "https://localhost:8080/"
        },
        "id": "pNeu6fm7WdpJ",
        "outputId": "1b795c02-d049-4f11-d32c-cdb506973153"
      },
      "execution_count": 10,
      "outputs": [
        {
          "output_type": "stream",
          "name": "stderr",
          "text": [
            "WARNING:tensorflow:From <ipython-input-10-48717b728c2c>:1: numeric_column (from tensorflow.python.feature_column.feature_column_v2) is deprecated and will be removed in a future version.\n",
            "Instructions for updating:\n",
            "Use Keras preprocessing layers instead, either directly or via the `tf.keras.utils.FeatureSpace` utility. Each of `tf.feature_column.*` has a functional equivalent in `tf.keras.layers` for feature preprocessing when training a Keras model.\n",
            "WARNING:tensorflow:From <ipython-input-10-48717b728c2c>:3: bucketized_column (from tensorflow.python.feature_column.feature_column_v2) is deprecated and will be removed in a future version.\n",
            "Instructions for updating:\n",
            "Use Keras preprocessing layers instead, either directly or via the `tf.keras.utils.FeatureSpace` utility. Each of `tf.feature_column.*` has a functional equivalent in `tf.keras.layers` for feature preprocessing when training a Keras model.\n"
          ]
        }
      ]
    },
    {
      "cell_type": "code",
      "source": [
        "h = {}\n",
        "\n",
        "for col in train_df:\n",
        "  if col in ['sex','class','deck', 'embark_town', 'alone']:\n",
        "    print(col, ':', train_df[col].unique())\n",
        "    h[col] = train_df[col].unique()"
      ],
      "metadata": {
        "colab": {
          "base_uri": "https://localhost:8080/"
        },
        "id": "LZgqumHRYXwX",
        "outputId": "08e453d6-f10f-4d0d-a4ab-b0a62c98b833"
      },
      "execution_count": 11,
      "outputs": [
        {
          "output_type": "stream",
          "name": "stdout",
          "text": [
            "sex : ['male' 'female']\n",
            "class : ['Third' 'First' 'Second']\n",
            "deck : ['unknown' 'C' 'G' 'A' 'B' 'D' 'F' 'E']\n",
            "embark_town : ['Southampton' 'Cherbourg' 'Queenstown' 'unknown']\n",
            "alone : ['n' 'y']\n"
          ]
        }
      ]
    },
    {
      "cell_type": "code",
      "source": [
        "sex_type = feature_column.categorical_column_with_vocabulary_list('Type', h.get('sex').tolist())\n",
        "sex_type_one_hot = feature_column.indicator_column(sex_type)\n",
        "\n",
        "class_type = feature_column.categorical_column_with_vocabulary_list('Type', h.get('class').tolist())\n",
        "class_type_one_hot = feature_column.indicator_column(class_type)\n",
        "\n",
        "deck_type = feature_column.categorical_column_with_vocabulary_list('Type', h.get('deck').tolist())\n",
        "deck_type_one_hot = feature_column.indicator_column(deck_type)\n",
        "\n",
        "embark_town_type = feature_column.categorical_column_with_vocabulary_list('Type', h.get('embark_town').tolist())\n",
        "embark_town_type_one_hot = feature_column.indicator_column(embark_town_type)\n",
        "\n",
        "alone_type = feature_column.categorical_column_with_vocabulary_list('Type', h.get('alone').tolist())\n",
        "alone_type_one_hot = feature_column.indicator_column(alone_type)\n"
      ],
      "metadata": {
        "colab": {
          "base_uri": "https://localhost:8080/"
        },
        "id": "Jc2A137ZdLZr",
        "outputId": "f1f4008d-ed64-44fd-d27f-d7e8f8af8a1d"
      },
      "execution_count": 12,
      "outputs": [
        {
          "output_type": "stream",
          "name": "stderr",
          "text": [
            "WARNING:tensorflow:From <ipython-input-12-a11815b0471b>:1: categorical_column_with_vocabulary_list (from tensorflow.python.feature_column.feature_column_v2) is deprecated and will be removed in a future version.\n",
            "Instructions for updating:\n",
            "Use Keras preprocessing layers instead, either directly or via the `tf.keras.utils.FeatureSpace` utility. Each of `tf.feature_column.*` has a functional equivalent in `tf.keras.layers` for feature preprocessing when training a Keras model.\n",
            "WARNING:tensorflow:From <ipython-input-12-a11815b0471b>:2: indicator_column (from tensorflow.python.feature_column.feature_column_v2) is deprecated and will be removed in a future version.\n",
            "Instructions for updating:\n",
            "Use Keras preprocessing layers instead, either directly or via the `tf.keras.utils.FeatureSpace` utility. Each of `tf.feature_column.*` has a functional equivalent in `tf.keras.layers` for feature preprocessing when training a Keras model.\n"
          ]
        }
      ]
    },
    {
      "cell_type": "code",
      "source": [
        "deck = feature_column.categorical_column_with_vocabulary_list('deck',train_df.deck.unique())\n",
        "deck_embedding = feature_column.embedding_column(deck, dimension=3)"
      ],
      "metadata": {
        "colab": {
          "base_uri": "https://localhost:8080/"
        },
        "id": "AnQjxeZX47VQ",
        "outputId": "779be6c6-72d5-4af2-90d8-b10609db40dd"
      },
      "execution_count": 13,
      "outputs": [
        {
          "output_type": "stream",
          "name": "stderr",
          "text": [
            "WARNING:tensorflow:From <ipython-input-13-aabdf1abf9b9>:2: embedding_column (from tensorflow.python.feature_column.feature_column_v2) is deprecated and will be removed in a future version.\n",
            "Instructions for updating:\n",
            "Use Keras preprocessing layers instead, either directly or via the `tf.keras.utils.FeatureSpace` utility. Each of `tf.feature_column.*` has a functional equivalent in `tf.keras.layers` for feature preprocessing when training a Keras model.\n"
          ]
        }
      ]
    },
    {
      "cell_type": "code",
      "source": [
        "class_hashed = feature_column.categorical_column_with_hash_bucket('class', hash_bucket_size=4)"
      ],
      "metadata": {
        "colab": {
          "base_uri": "https://localhost:8080/"
        },
        "id": "FL6XnDM45V0T",
        "outputId": "fb08bc79-0aa3-45fd-f2dc-fdea550bb06b"
      },
      "execution_count": 14,
      "outputs": [
        {
          "output_type": "stream",
          "name": "stderr",
          "text": [
            "WARNING:tensorflow:From <ipython-input-14-ed317f2473b3>:1: categorical_column_with_hash_bucket (from tensorflow.python.feature_column.feature_column_v2) is deprecated and will be removed in a future version.\n",
            "Instructions for updating:\n",
            "Use Keras preprocessing layers instead, either directly or via the `tf.keras.utils.FeatureSpace` utility. Each of `tf.feature_column.*` has a functional equivalent in `tf.keras.layers` for feature preprocessing when training a Keras model.\n"
          ]
        }
      ]
    },
    {
      "cell_type": "markdown",
      "source": [
        "##### Encoding Column Interactions as Possible Features\n",
        "\n",
        "Sometimes intuition, experience and knowledge allows us to create new features by finding interactions between existing features"
      ],
      "metadata": {
        "id": "6JSwwYorr0oR"
      }
    },
    {
      "cell_type": "code",
      "source": [
        "cross_type_feature = feature_column.crossed_column(['sex','class'], hash_bucket_size=5)"
      ],
      "metadata": {
        "colab": {
          "base_uri": "https://localhost:8080/"
        },
        "id": "F8CiPziF3Ncv",
        "outputId": "449427e6-a0f9-4f62-a790-0c95abfb977e"
      },
      "execution_count": 15,
      "outputs": [
        {
          "output_type": "stream",
          "name": "stderr",
          "text": [
            "WARNING:tensorflow:From <ipython-input-15-4eceac261888>:1: crossed_column (from tensorflow.python.feature_column.feature_column_v2) is deprecated and will be removed in a future version.\n",
            "Instructions for updating:\n",
            "Use `tf.keras.layers.experimental.preprocessing.HashedCrossing` instead for feature crossing when preprocessing data to train a Keras model.\n"
          ]
        }
      ]
    },
    {
      "cell_type": "code",
      "source": [
        "# Start appending modified data\n",
        "feature_columns = []\n",
        "\n",
        "# Append numeric columns\n",
        "for header in ['age', 'n_siblings_spouses', 'parch', 'fare']:\n",
        "  feature_columns.append(feature_column.numeric_column(header))\n",
        "\n",
        "# Append bucketized columns\n",
        "age = feature_column.numeric_column('age')\n",
        "age_buckets = feature_column.bucketized_column(age, boundaries=[23, 28, 35])\n",
        "feature_columns.append(age_buckets)\n",
        "\n"
      ],
      "metadata": {
        "id": "bavMBYBC3_aw"
      },
      "execution_count": 16,
      "outputs": []
    },
    {
      "cell_type": "code",
      "source": [
        "# indicator_columns\n",
        "indicator_column_names = ['sex', 'class', 'deck', 'embark_town', 'alone']\n",
        "for col_name in indicator_column_names:\n",
        "  categorical_column = feature_column.categorical_column_with_vocabulary_list(\n",
        "      col_name, train_df[col_name].unique())\n",
        "  indicator_column = feature_column.indicator_column(categorical_column)\n",
        "  feature_columns.append(indicator_column)"
      ],
      "metadata": {
        "id": "qAbPNN2r8aDp"
      },
      "execution_count": 17,
      "outputs": []
    },
    {
      "cell_type": "code",
      "source": [
        "# Append embedding columns\n",
        "deck = feature_column.categorical_column_with_vocabulary_list(\n",
        "    'deck', train_df.deck.unique())\n",
        "deck_embedding = feature_column.embedding_column(deck, dimension=3)\n",
        "feature_columns.append(deck_embedding)"
      ],
      "metadata": {
        "id": "JGVWZECR6GpV"
      },
      "execution_count": 18,
      "outputs": []
    },
    {
      "cell_type": "code",
      "source": [
        "# Append crossed columns\n",
        "feature_columns.append(feature_column.indicator_column(cross_type_feature))"
      ],
      "metadata": {
        "id": "Bb70h2TAPnH3"
      },
      "execution_count": 19,
      "outputs": []
    },
    {
      "cell_type": "code",
      "source": [
        "# Now create a feature layer\n",
        "feature_layer = tf.keras.layers.DenseFeatures(feature_columns)"
      ],
      "metadata": {
        "id": "og84GDYSP0cd"
      },
      "execution_count": 20,
      "outputs": []
    },
    {
      "cell_type": "markdown",
      "source": [
        "This layer will serve as the first input of the model we are going to build and train. This is how you'll provide all the feature engineering framewroks for the model's training process"
      ],
      "metadata": {
        "id": "jCkxvHd0QXcl"
      }
    },
    {
      "cell_type": "markdown",
      "source": [
        "##### Creating a Cross-Validation Dataset\n",
        "\n",
        "We need to create a small set of our data for cross-validation purposes.<br>\n",
        "(training, validation, testing)"
      ],
      "metadata": {
        "id": "KdqszzoLRPum"
      }
    },
    {
      "cell_type": "code",
      "source": [
        "val_df, test_df = train_test_split(test_df, test_size = 0.4)"
      ],
      "metadata": {
        "id": "XplkcZaKSv7T"
      },
      "execution_count": 21,
      "outputs": []
    },
    {
      "cell_type": "code",
      "source": [
        "batch_size = 33\n",
        "labels = train_df.pop('survived')\n",
        "working_ds = tf.data.Dataset.from_tensor_slices((dict(train_df), labels))\n",
        "working_ds = working_ds.shuffle(buffer_size=len(train_df))\n",
        "train_ds = working_ds.batch(batch_size)"
      ],
      "metadata": {
        "id": "g65s0u-qYcw6"
      },
      "execution_count": 22,
      "outputs": []
    },
    {
      "cell_type": "code",
      "source": [
        "# A utility method to create a tf.data dataset from a Pandas Dataframe\n",
        "def pandas_to_dataset(dataframe, shuffle=True, batch_size=32):\n",
        "  dataframe = dataframe.copy()\n",
        "  labels = dataframe.pop('survived')\n",
        "  ds = tf.data.Dataset.from_tensor_slices((dict(dataframe), labels))\n",
        "  if shuffle:\n",
        "    ds = ds.shuffle(buffer_size=len(dataframe))\n",
        "  ds = ds.batch(batch_size)\n",
        "  return ds"
      ],
      "metadata": {
        "id": "m8Qpe4ioTCgO"
      },
      "execution_count": 23,
      "outputs": []
    },
    {
      "cell_type": "code",
      "source": [
        "val_ds = pandas_to_dataset(val_df, shuffle=False, batch_size=batch_size)\n",
        "test_ds = pandas_to_dataset(test_df, shuffle=False, batch_size=batch_size)"
      ],
      "metadata": {
        "id": "e5GwTY48Wenh"
      },
      "execution_count": 24,
      "outputs": []
    },
    {
      "cell_type": "code",
      "source": [
        " # 1. Build the model\n",
        " model=tf.keras.Sequential([\n",
        "    feature_layer,\n",
        "    layers.Dense(128, activation='relu'),\n",
        "    layers.Dense(128, activation='relu'),\n",
        "    layers.Dropout(.1),\n",
        "    layers.Dense(1)])\n",
        "\n",
        " model.compile(optimizer='adam',\n",
        "               loss=tf.keras.losses.BinaryCrossentropy(from_logits=True),\n",
        "               metrics=['accuracy'])\n",
        "\n",
        " model.fit(train_ds, validation_data=val_ds, epochs=10)"
      ],
      "metadata": {
        "colab": {
          "base_uri": "https://localhost:8080/"
        },
        "id": "evg-UVw4YKgu",
        "outputId": "761acc19-37fc-45ec-e0e6-dccf979544ea"
      },
      "execution_count": 26,
      "outputs": [
        {
          "output_type": "stream",
          "name": "stdout",
          "text": [
            "Epoch 1/10\n"
          ]
        },
        {
          "output_type": "stream",
          "name": "stderr",
          "text": [
            "WARNING:tensorflow:Layers in a Sequential model should only have a single input tensor. Received: inputs={'sex': <tf.Tensor 'IteratorGetNext:8' shape=(None,) dtype=string>, 'age': <tf.Tensor 'IteratorGetNext:0' shape=(None,) dtype=float64>, 'n_siblings_spouses': <tf.Tensor 'IteratorGetNext:6' shape=(None,) dtype=int64>, 'parch': <tf.Tensor 'IteratorGetNext:7' shape=(None,) dtype=int64>, 'fare': <tf.Tensor 'IteratorGetNext:5' shape=(None,) dtype=float64>, 'class': <tf.Tensor 'IteratorGetNext:2' shape=(None,) dtype=string>, 'deck': <tf.Tensor 'IteratorGetNext:3' shape=(None,) dtype=string>, 'embark_town': <tf.Tensor 'IteratorGetNext:4' shape=(None,) dtype=string>, 'alone': <tf.Tensor 'IteratorGetNext:1' shape=(None,) dtype=string>}. Consider rewriting this model with the Functional API.\n",
            "WARNING:tensorflow:Layers in a Sequential model should only have a single input tensor. Received: inputs={'sex': <tf.Tensor 'IteratorGetNext:8' shape=(None,) dtype=string>, 'age': <tf.Tensor 'IteratorGetNext:0' shape=(None,) dtype=float64>, 'n_siblings_spouses': <tf.Tensor 'IteratorGetNext:6' shape=(None,) dtype=int64>, 'parch': <tf.Tensor 'IteratorGetNext:7' shape=(None,) dtype=int64>, 'fare': <tf.Tensor 'IteratorGetNext:5' shape=(None,) dtype=float64>, 'class': <tf.Tensor 'IteratorGetNext:2' shape=(None,) dtype=string>, 'deck': <tf.Tensor 'IteratorGetNext:3' shape=(None,) dtype=string>, 'embark_town': <tf.Tensor 'IteratorGetNext:4' shape=(None,) dtype=string>, 'alone': <tf.Tensor 'IteratorGetNext:1' shape=(None,) dtype=string>}. Consider rewriting this model with the Functional API.\n"
          ]
        },
        {
          "output_type": "stream",
          "name": "stdout",
          "text": [
            "17/19 [=========================>....] - ETA: 0s - loss: 0.8034 - accuracy: 0.6417 "
          ]
        },
        {
          "output_type": "stream",
          "name": "stderr",
          "text": [
            "WARNING:tensorflow:Layers in a Sequential model should only have a single input tensor. Received: inputs={'sex': <tf.Tensor 'IteratorGetNext:8' shape=(None,) dtype=string>, 'age': <tf.Tensor 'IteratorGetNext:0' shape=(None,) dtype=float64>, 'n_siblings_spouses': <tf.Tensor 'IteratorGetNext:6' shape=(None,) dtype=int64>, 'parch': <tf.Tensor 'IteratorGetNext:7' shape=(None,) dtype=int64>, 'fare': <tf.Tensor 'IteratorGetNext:5' shape=(None,) dtype=float64>, 'class': <tf.Tensor 'IteratorGetNext:2' shape=(None,) dtype=string>, 'deck': <tf.Tensor 'IteratorGetNext:3' shape=(None,) dtype=string>, 'embark_town': <tf.Tensor 'IteratorGetNext:4' shape=(None,) dtype=string>, 'alone': <tf.Tensor 'IteratorGetNext:1' shape=(None,) dtype=string>}. Consider rewriting this model with the Functional API.\n"
          ]
        },
        {
          "output_type": "stream",
          "name": "stdout",
          "text": [
            "\b\b\b\b\b\b\b\b\b\b\b\b\b\b\b\b\b\b\b\b\b\b\b\b\b\b\b\b\b\b\b\b\b\b\b\b\b\b\b\b\b\b\b\b\b\b\b\b\b\b\b\b\b\b\b\b\b\b\b\b\b\b\b\b\b\b\b\b\b\b\b\b\b\b\b\b\b\b\b\b\b\b\r19/19 [==============================] - 3s 25ms/step - loss: 0.7996 - accuracy: 0.6459 - val_loss: 0.5733 - val_accuracy: 0.7278\n",
            "Epoch 2/10\n",
            "19/19 [==============================] - 0s 4ms/step - loss: 0.7764 - accuracy: 0.6587 - val_loss: 0.5341 - val_accuracy: 0.6899\n",
            "Epoch 3/10\n",
            "19/19 [==============================] - 0s 5ms/step - loss: 0.7203 - accuracy: 0.6491 - val_loss: 0.5087 - val_accuracy: 0.7468\n",
            "Epoch 4/10\n",
            "19/19 [==============================] - 0s 4ms/step - loss: 0.5966 - accuracy: 0.6890 - val_loss: 0.5239 - val_accuracy: 0.7595\n",
            "Epoch 5/10\n",
            "19/19 [==============================] - 0s 5ms/step - loss: 0.5695 - accuracy: 0.6970 - val_loss: 0.4882 - val_accuracy: 0.7278\n",
            "Epoch 6/10\n",
            "19/19 [==============================] - 0s 5ms/step - loss: 0.5528 - accuracy: 0.7002 - val_loss: 0.4882 - val_accuracy: 0.7278\n",
            "Epoch 7/10\n",
            "19/19 [==============================] - 0s 4ms/step - loss: 0.5436 - accuracy: 0.7081 - val_loss: 0.4581 - val_accuracy: 0.7595\n",
            "Epoch 8/10\n",
            "19/19 [==============================] - 0s 4ms/step - loss: 0.5379 - accuracy: 0.7448 - val_loss: 0.4683 - val_accuracy: 0.7722\n",
            "Epoch 9/10\n",
            "19/19 [==============================] - 0s 5ms/step - loss: 0.5069 - accuracy: 0.7480 - val_loss: 0.4963 - val_accuracy: 0.7722\n",
            "Epoch 10/10\n",
            "19/19 [==============================] - 0s 4ms/step - loss: 0.5870 - accuracy: 0.7512 - val_loss: 0.4550 - val_accuracy: 0.7785\n"
          ]
        },
        {
          "output_type": "execute_result",
          "data": {
            "text/plain": [
              "<keras.callbacks.History at 0x7e660d9f8d30>"
            ]
          },
          "metadata": {},
          "execution_count": 26
        }
      ]
    },
    {
      "cell_type": "markdown",
      "source": [
        "### Preparing Image Data for Processing\n",
        "\n",
        "For images, you need to reshape and resample all the images into the same pixel count; this is know as *standarization*\n",
        "\n",
        "We need, also, to ensure that all pixel values are within the same color range so that they fall within the finite range of RGB values of each pixel."
      ],
      "metadata": {
        "id": "kfucKf6IaKEt"
      }
    },
    {
      "cell_type": "markdown",
      "source": [
        "👁 *(ResNet, i.e., requires each input image to be 224 x 224 x 3 pixels and be presented as NumPy multidimensional array)*"
      ],
      "metadata": {
        "id": "2VFJnTQ3hbOS"
      }
    },
    {
      "cell_type": "markdown",
      "source": [
        "Finally, the important thing is to make a good preprocessing routine to ensure the resampling is done properly"
      ],
      "metadata": {
        "id": "jBGFuYJBh8og"
      }
    },
    {
      "cell_type": "code",
      "source": [
        "import tensorflow as tf\n",
        "import numpy as np\n",
        "import matplotlib.pylab as plt\n",
        "import pathlib"
      ],
      "metadata": {
        "id": "9kdg5ViQiQeo"
      },
      "execution_count": 27,
      "outputs": []
    },
    {
      "cell_type": "code",
      "source": [
        "data_dir = tf.keras.utils.get_file('flower_photos',\n",
        "                                   'https://storage.googleapis.com/download.tensorflow.org/example_images/flower_photos.tgz',\n",
        "                                   untar=True) # untar=True because files came in a compressed tar file\n",
        "\n"
      ],
      "metadata": {
        "colab": {
          "base_uri": "https://localhost:8080/"
        },
        "id": "BJpGp0VqidWN",
        "outputId": "33e35a4f-9344-406d-e24b-cbd820e1815a"
      },
      "execution_count": 29,
      "outputs": [
        {
          "output_type": "stream",
          "name": "stdout",
          "text": [
            "Downloading data from https://storage.googleapis.com/download.tensorflow.org/example_images/flower_photos.tgz\n",
            "228813984/228813984 [==============================] - 1s 0us/step\n"
          ]
        }
      ]
    },
    {
      "cell_type": "code",
      "source": [],
      "metadata": {
        "id": "bhqbJEYxjSvP"
      },
      "execution_count": null,
      "outputs": []
    }
  ]
}